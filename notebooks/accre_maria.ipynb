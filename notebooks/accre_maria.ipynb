{
 "cells": [
  {
   "cell_type": "markdown",
   "id": "4ab9d180-0724-4d97-8f3f-eeabec801c75",
   "metadata": {},
   "source": [
    "## Data Introduction"
   ]
  },
  {
   "cell_type": "code",
   "execution_count": 392,
   "id": "4b2c0592-6480-4d90-9410-71dcf02ef0f6",
   "metadata": {},
   "outputs": [],
   "source": [
    "import pandas as pd\n",
    "import matplotlib.pyplot as plt\n",
    "import datetime as dt"
   ]
  },
  {
   "cell_type": "code",
   "execution_count": 4,
   "id": "d33a6a7b-a689-46c0-8181-3d55a3bf5873",
   "metadata": {},
   "outputs": [],
   "source": [
    "jobs = pd.read_csv(\"../data/fullsample.csv\")"
   ]
  },
  {
   "cell_type": "code",
   "execution_count": 6,
   "id": "b66b5ff5-3ef3-4142-b03d-6d51c1841773",
   "metadata": {},
   "outputs": [
    {
     "data": {
      "text/plain": [
       "(7395885, 12)"
      ]
     },
     "execution_count": 6,
     "metadata": {},
     "output_type": "execute_result"
    }
   ],
   "source": [
    "jobs.shape"
   ]
  },
  {
   "cell_type": "code",
   "execution_count": 8,
   "id": "c68222e6-b158-45cd-bb42-c612651950ce",
   "metadata": {},
   "outputs": [
    {
     "data": {
      "text/plain": [
       "JOBID        7395885\n",
       "STATE        7395885\n",
       "BEGIN        7395885\n",
       "END          7395885\n",
       "REQMEM       7395885\n",
       "USEDMEM      7395885\n",
       "REQTIME      7395885\n",
       "USEDTIME     7395885\n",
       "NODES        7395885\n",
       "CPUS         7395885\n",
       "PARTITION    7395885\n",
       "EXITCODE     7395885\n",
       "dtype: int64"
      ]
     },
     "execution_count": 8,
     "metadata": {},
     "output_type": "execute_result"
    }
   ],
   "source": [
    "jobs.count()"
   ]
  },
  {
   "cell_type": "code",
   "execution_count": 10,
   "id": "598ef426-df5a-4786-a10e-7658fe2f3b80",
   "metadata": {},
   "outputs": [
    {
     "data": {
      "text/plain": [
       "Index(['JOBID', 'STATE', 'BEGIN', 'END', 'REQMEM', 'USEDMEM', 'REQTIME',\n",
       "       'USEDTIME', 'NODES', 'CPUS', 'PARTITION', 'EXITCODE'],\n",
       "      dtype='object')"
      ]
     },
     "execution_count": 10,
     "metadata": {},
     "output_type": "execute_result"
    }
   ],
   "source": [
    "jobs.columns"
   ]
  },
  {
   "cell_type": "code",
   "execution_count": 12,
   "id": "7c1cd895-b270-42a3-9bfc-72c6050795f6",
   "metadata": {},
   "outputs": [],
   "source": [
    "jobs_clean = jobs[jobs['STATE'] != 'RUNNING']"
   ]
  },
  {
   "cell_type": "code",
   "execution_count": 16,
   "id": "6ea1f62e-63b4-48cf-a54d-49b753170a07",
   "metadata": {},
   "outputs": [
    {
     "data": {
      "text/plain": [
       "JOBID        208\n",
       "STATE        208\n",
       "BEGIN        208\n",
       "END          208\n",
       "REQMEM       208\n",
       "USEDMEM      208\n",
       "REQTIME      208\n",
       "USEDTIME     208\n",
       "NODES        208\n",
       "CPUS         208\n",
       "PARTITION    208\n",
       "EXITCODE     208\n",
       "dtype: int64"
      ]
     },
     "execution_count": 16,
     "metadata": {},
     "output_type": "execute_result"
    }
   ],
   "source": [
    "jobs[jobs['STATE'] == 'RUNNING'].count()"
   ]
  },
  {
   "cell_type": "code",
   "execution_count": 18,
   "id": "911dac90-edb4-48b1-a5bb-877befea59cc",
   "metadata": {},
   "outputs": [
    {
     "data": {
      "text/plain": [
       "JOBID        7395677\n",
       "STATE        7395677\n",
       "BEGIN        7395677\n",
       "END          7395677\n",
       "REQMEM       7395677\n",
       "USEDMEM      7395677\n",
       "REQTIME      7395677\n",
       "USEDTIME     7395677\n",
       "NODES        7395677\n",
       "CPUS         7395677\n",
       "PARTITION    7395677\n",
       "EXITCODE     7395677\n",
       "dtype: int64"
      ]
     },
     "execution_count": 18,
     "metadata": {},
     "output_type": "execute_result"
    }
   ],
   "source": [
    "jobs_clean.count()"
   ]
  },
  {
   "cell_type": "code",
   "execution_count": 20,
   "id": "72487cbb-547a-4703-b5be-a6cfa5e7a7f5",
   "metadata": {},
   "outputs": [
    {
     "data": {
      "text/plain": [
       "STATE\n",
       "COMPLETED              7375084\n",
       "CANCELLED                 9055\n",
       "FAILED                    3766\n",
       "CANCELLED by 9201         1776\n",
       "OUT_OF_MEMORY             1739\n",
       "                        ...   \n",
       "CANCELLED by 686562          1\n",
       "CANCELLED by 891323          1\n",
       "CANCELLED by 19853           1\n",
       "CANCELLED by 494371          1\n",
       "CANCELLED by 515423          1\n",
       "Name: count, Length: 144, dtype: int64"
      ]
     },
     "execution_count": 20,
     "metadata": {},
     "output_type": "execute_result"
    }
   ],
   "source": [
    "jobs_clean['STATE'].value_counts()\n",
    "#jobs['STATE'].value_counts()"
   ]
  },
  {
   "cell_type": "code",
   "execution_count": 22,
   "id": "1727f964-e979-428f-8b2f-86f46d22bb14",
   "metadata": {},
   "outputs": [
    {
     "data": {
      "text/plain": [
       "(9055, 12)"
      ]
     },
     "execution_count": 22,
     "metadata": {},
     "output_type": "execute_result"
    }
   ],
   "source": [
    "jobs_cancelled = jobs[jobs['STATE'] == 'CANCELLED']\n",
    "jobs_cancelled.shape"
   ]
  },
  {
   "cell_type": "markdown",
   "id": "fc162f20-1982-4151-8068-088d23fbaa4d",
   "metadata": {},
   "source": [
    "The **BEGIN** field indicates when the job was started (initiated on a computer node).\n",
    "\n",
    "The **END** field indicates when the job ended (completed, failed, or was cancelled while running).\n",
    "\n",
    "The **REQMEM** field is the amount of memory requested in megabytes. It can be per-core/CPU (Mc) or per-node (Mn).\n",
    "\n"
   ]
  },
  {
   "cell_type": "code",
   "execution_count": null,
   "id": "2e25d575-0f1b-4f0e-bae6-835e6e5cb38d",
   "metadata": {},
   "outputs": [],
   "source": [
    "# Jobs where memory was requested per core.\n",
    "jobs[jobs['REQMEM'].str[-2:] == 'Mc'].head()"
   ]
  },
  {
   "cell_type": "code",
   "execution_count": null,
   "id": "f62be55f-50ae-47af-9dc5-211e2c789aa6",
   "metadata": {},
   "outputs": [],
   "source": [
    "# Jobs where memory was requested per node.\n",
    "jobs[jobs['REQMEM'].str[-2:] == 'Mn'].head()"
   ]
  },
  {
   "cell_type": "markdown",
   "id": "4ab8f568-1c65-4d64-b8c5-be10a8a9a15b",
   "metadata": {},
   "source": [
    "The USEDMEM column is the amount of memory used in MB per node.\n",
    "\n",
    "The requested time (REQTIME) and used time (USEDTIME) columns are in d-hh:mm:ss or hh:mm:ss for jobs less than one day in duration.\n",
    "\n",
    "**NODES** is the number of servers used for the job. Most jobs are single node. For multiple node jobs, memory usage is the maximum over all nodes.\n",
    "\n",
    "**CPUS** is the total number of CPU cores allocated to the job, and for multi-node jobs, this includes all nodes.\n",
    "\n",
    "Most jobs are run in the \"production\" or \"nogpfs\" partition. The \"debug\" and \"sam\" partitions are test jobs that are expected to be short, and the \"maxwell\", \"pascal\", and \"turing\" partitions are for GPU resources."
   ]
  },
  {
   "cell_type": "code",
   "execution_count": null,
   "id": "9af9b336-e9cf-4330-b62c-34d5191b4909",
   "metadata": {},
   "outputs": [],
   "source": [
    "jobs['PARTITION'].value_counts()"
   ]
  },
  {
   "cell_type": "markdown",
   "id": "cffa6055-c48f-4f66-a641-fc81ec0a19e5",
   "metadata": {},
   "source": [
    "The **EXITCODE** gives the [exit code](https://www.agileconnection.com/article/overview-linux-exit-codes) for the job, with \"0:0\" indicating a successful job. Exit codes have two numbers, where if the first number is non-zero, it indicates a problem on the server side and if the second is nonzero, it indicates a problem on the user side."
   ]
  },
  {
   "cell_type": "code",
   "execution_count": null,
   "id": "e8bb61eb-382b-4846-ac2f-cccfb07ae4bf",
   "metadata": {},
   "outputs": [],
   "source": [
    "jobs['EXITCODE'].value_counts()"
   ]
  },
  {
   "cell_type": "code",
   "execution_count": null,
   "id": "0292bff2-662f-409c-b956-5ef755c68317",
   "metadata": {},
   "outputs": [],
   "source": [
    "jobs[jobs['EXITCODE'] == '1:0']"
   ]
  },
  {
   "cell_type": "code",
   "execution_count": null,
   "id": "2ae3969c-b3e6-4890-80cf-67ff2a2b89eb",
   "metadata": {},
   "outputs": [],
   "source": [
    "jobs[jobs['EXITCODE'] == '0:15']"
   ]
  },
  {
   "cell_type": "code",
   "execution_count": 24,
   "id": "fc281c3d-7f6d-4244-9af5-7191d806364c",
   "metadata": {},
   "outputs": [],
   "source": [
    "jobs_completed = jobs[jobs['STATE'] == 'COMPLETED']"
   ]
  },
  {
   "cell_type": "code",
   "execution_count": 26,
   "id": "ca37efb8-1867-4272-9b82-f68e74798601",
   "metadata": {},
   "outputs": [
    {
     "data": {
      "text/plain": [
       "(7375084, 12)"
      ]
     },
     "execution_count": 26,
     "metadata": {},
     "output_type": "execute_result"
    }
   ],
   "source": [
    "jobs_completed.shape"
   ]
  },
  {
   "cell_type": "code",
   "execution_count": 28,
   "id": "57d66e09-0be8-4496-b793-4db38cfeefea",
   "metadata": {},
   "outputs": [
    {
     "name": "stdout",
     "output_type": "stream",
     "text": [
      "<class 'pandas.core.frame.DataFrame'>\n",
      "Index: 7375084 entries, 1 to 7395884\n",
      "Data columns (total 12 columns):\n",
      " #   Column     Dtype \n",
      "---  ------     ----- \n",
      " 0   JOBID      object\n",
      " 1   STATE      object\n",
      " 2   BEGIN      object\n",
      " 3   END        object\n",
      " 4   REQMEM     object\n",
      " 5   USEDMEM    object\n",
      " 6   REQTIME    object\n",
      " 7   USEDTIME   object\n",
      " 8   NODES      int64 \n",
      " 9   CPUS       int64 \n",
      " 10  PARTITION  object\n",
      " 11  EXITCODE   object\n",
      "dtypes: int64(2), object(10)\n",
      "memory usage: 731.5+ MB\n"
     ]
    }
   ],
   "source": [
    "jobs_completed.info()"
   ]
  },
  {
   "cell_type": "code",
   "execution_count": 30,
   "id": "3f4f8a9a-f906-4a25-988f-a31d07ed1c76",
   "metadata": {},
   "outputs": [
    {
     "data": {
      "text/plain": [
       "dtype('O')"
      ]
     },
     "execution_count": 30,
     "metadata": {},
     "output_type": "execute_result"
    }
   ],
   "source": [
    "jobs_completed['END'].dtype"
   ]
  },
  {
   "cell_type": "code",
   "execution_count": null,
   "id": "f22b5c93-7b6d-473d-9c9e-f0321ac58658",
   "metadata": {},
   "outputs": [],
   "source": [
    "#df['Mycol'] = pd.to_datetime(df['Mycol'], format='%d%b%Y:%H:%M:%S.%f')"
   ]
  },
  {
   "cell_type": "code",
   "execution_count": 32,
   "id": "06db4b14-0a98-4fa3-8765-ed6bd3b96d22",
   "metadata": {},
   "outputs": [
    {
     "data": {
      "text/plain": [
       "1          2021-09-05T11:36:32\n",
       "2          2021-09-05T19:04:53\n",
       "3          2021-09-07T20:52:55\n",
       "4          2021-09-10T16:45:24\n",
       "5          2021-09-06T16:17:34\n",
       "                  ...         \n",
       "7395880    2020-10-31T23:40:46\n",
       "7395881    2020-10-31T23:40:38\n",
       "7395882    2020-10-31T23:49:43\n",
       "7395883    2020-10-31T23:51:40\n",
       "7395884    2020-10-31T23:59:57\n",
       "Name: END, Length: 7375084, dtype: object"
      ]
     },
     "execution_count": 32,
     "metadata": {},
     "output_type": "execute_result"
    }
   ],
   "source": [
    "jobs_completed['END']"
   ]
  },
  {
   "cell_type": "code",
   "execution_count": 34,
   "id": "f5142e89-6f03-4798-bed7-0ca76a18a13d",
   "metadata": {},
   "outputs": [
    {
     "name": "stderr",
     "output_type": "stream",
     "text": [
      "C:\\Users\\Maria\\AppData\\Local\\Temp\\ipykernel_21040\\4105075721.py:1: SettingWithCopyWarning: \n",
      "A value is trying to be set on a copy of a slice from a DataFrame.\n",
      "Try using .loc[row_indexer,col_indexer] = value instead\n",
      "\n",
      "See the caveats in the documentation: https://pandas.pydata.org/pandas-docs/stable/user_guide/indexing.html#returning-a-view-versus-a-copy\n",
      "  jobs_completed['END'] = pd.to_datetime(jobs_completed['END'])\n"
     ]
    },
    {
     "data": {
      "text/html": [
       "<div>\n",
       "<style scoped>\n",
       "    .dataframe tbody tr th:only-of-type {\n",
       "        vertical-align: middle;\n",
       "    }\n",
       "\n",
       "    .dataframe tbody tr th {\n",
       "        vertical-align: top;\n",
       "    }\n",
       "\n",
       "    .dataframe thead th {\n",
       "        text-align: right;\n",
       "    }\n",
       "</style>\n",
       "<table border=\"1\" class=\"dataframe\">\n",
       "  <thead>\n",
       "    <tr style=\"text-align: right;\">\n",
       "      <th></th>\n",
       "      <th>JOBID</th>\n",
       "      <th>STATE</th>\n",
       "      <th>BEGIN</th>\n",
       "      <th>END</th>\n",
       "      <th>REQMEM</th>\n",
       "      <th>USEDMEM</th>\n",
       "      <th>REQTIME</th>\n",
       "      <th>USEDTIME</th>\n",
       "      <th>NODES</th>\n",
       "      <th>CPUS</th>\n",
       "      <th>PARTITION</th>\n",
       "      <th>EXITCODE</th>\n",
       "    </tr>\n",
       "  </thead>\n",
       "  <tbody>\n",
       "    <tr>\n",
       "      <th>1</th>\n",
       "      <td>30853133</td>\n",
       "      <td>COMPLETED</td>\n",
       "      <td>2021-08-06T11:36:09</td>\n",
       "      <td>2021-09-05 11:36:32</td>\n",
       "      <td>262144Mn</td>\n",
       "      <td>20604.62M</td>\n",
       "      <td>30-00:00:00</td>\n",
       "      <td>30-00:00:23</td>\n",
       "      <td>1</td>\n",
       "      <td>1</td>\n",
       "      <td>cgw-platypus</td>\n",
       "      <td>0:0</td>\n",
       "    </tr>\n",
       "    <tr>\n",
       "      <th>2</th>\n",
       "      <td>30858137</td>\n",
       "      <td>COMPLETED</td>\n",
       "      <td>2021-08-06T19:04:39</td>\n",
       "      <td>2021-09-05 19:04:53</td>\n",
       "      <td>204800Mn</td>\n",
       "      <td>57553.77M</td>\n",
       "      <td>30-00:00:00</td>\n",
       "      <td>30-00:00:14</td>\n",
       "      <td>1</td>\n",
       "      <td>32</td>\n",
       "      <td>cgw-tbi01</td>\n",
       "      <td>0:0</td>\n",
       "    </tr>\n",
       "    <tr>\n",
       "      <th>3</th>\n",
       "      <td>30935078</td>\n",
       "      <td>COMPLETED</td>\n",
       "      <td>2021-08-09T16:52:51</td>\n",
       "      <td>2021-09-07 20:52:55</td>\n",
       "      <td>65536Mn</td>\n",
       "      <td>20577.96M</td>\n",
       "      <td>29-04:00:00</td>\n",
       "      <td>29-04:00:04</td>\n",
       "      <td>1</td>\n",
       "      <td>8</td>\n",
       "      <td>cgw-platypus</td>\n",
       "      <td>0:0</td>\n",
       "    </tr>\n",
       "    <tr>\n",
       "      <th>4</th>\n",
       "      <td>31364111_2</td>\n",
       "      <td>COMPLETED</td>\n",
       "      <td>2021-08-17T07:45:07</td>\n",
       "      <td>2021-09-10 16:45:24</td>\n",
       "      <td>16384Mn</td>\n",
       "      <td>9733.43M</td>\n",
       "      <td>24-09:00:00</td>\n",
       "      <td>24-09:00:17</td>\n",
       "      <td>1</td>\n",
       "      <td>1</td>\n",
       "      <td>production</td>\n",
       "      <td>0:0</td>\n",
       "    </tr>\n",
       "    <tr>\n",
       "      <th>5</th>\n",
       "      <td>31364111_3</td>\n",
       "      <td>COMPLETED</td>\n",
       "      <td>2021-08-17T07:45:07</td>\n",
       "      <td>2021-09-06 16:17:34</td>\n",
       "      <td>16384Mn</td>\n",
       "      <td>9708.04M</td>\n",
       "      <td>24-09:00:00</td>\n",
       "      <td>20-08:32:27</td>\n",
       "      <td>1</td>\n",
       "      <td>1</td>\n",
       "      <td>production</td>\n",
       "      <td>0:0</td>\n",
       "    </tr>\n",
       "    <tr>\n",
       "      <th>...</th>\n",
       "      <td>...</td>\n",
       "      <td>...</td>\n",
       "      <td>...</td>\n",
       "      <td>...</td>\n",
       "      <td>...</td>\n",
       "      <td>...</td>\n",
       "      <td>...</td>\n",
       "      <td>...</td>\n",
       "      <td>...</td>\n",
       "      <td>...</td>\n",
       "      <td>...</td>\n",
       "      <td>...</td>\n",
       "    </tr>\n",
       "    <tr>\n",
       "      <th>7395880</th>\n",
       "      <td>25493434</td>\n",
       "      <td>COMPLETED</td>\n",
       "      <td>2020-10-31T23:39:00</td>\n",
       "      <td>2020-10-31 23:40:46</td>\n",
       "      <td>2000Mn</td>\n",
       "      <td>0.09M</td>\n",
       "      <td>2-00:00:00</td>\n",
       "      <td>00:01:46</td>\n",
       "      <td>1</td>\n",
       "      <td>1</td>\n",
       "      <td>sam</td>\n",
       "      <td>0:0</td>\n",
       "    </tr>\n",
       "    <tr>\n",
       "      <th>7395881</th>\n",
       "      <td>25493435</td>\n",
       "      <td>COMPLETED</td>\n",
       "      <td>2020-10-31T23:39:13</td>\n",
       "      <td>2020-10-31 23:40:38</td>\n",
       "      <td>2000Mn</td>\n",
       "      <td>187.92M</td>\n",
       "      <td>2-00:00:00</td>\n",
       "      <td>00:01:25</td>\n",
       "      <td>1</td>\n",
       "      <td>1</td>\n",
       "      <td>sam</td>\n",
       "      <td>0:0</td>\n",
       "    </tr>\n",
       "    <tr>\n",
       "      <th>7395882</th>\n",
       "      <td>25493476</td>\n",
       "      <td>COMPLETED</td>\n",
       "      <td>2020-10-31T23:46:29</td>\n",
       "      <td>2020-10-31 23:49:43</td>\n",
       "      <td>4096Mc</td>\n",
       "      <td>803.97M</td>\n",
       "      <td>12:00:00</td>\n",
       "      <td>00:03:14</td>\n",
       "      <td>1</td>\n",
       "      <td>1</td>\n",
       "      <td>production</td>\n",
       "      <td>0:0</td>\n",
       "    </tr>\n",
       "    <tr>\n",
       "      <th>7395883</th>\n",
       "      <td>25493515</td>\n",
       "      <td>COMPLETED</td>\n",
       "      <td>2020-10-31T23:49:44</td>\n",
       "      <td>2020-10-31 23:51:40</td>\n",
       "      <td>2000Mn</td>\n",
       "      <td>0.09M</td>\n",
       "      <td>2-00:00:00</td>\n",
       "      <td>00:01:56</td>\n",
       "      <td>1</td>\n",
       "      <td>1</td>\n",
       "      <td>sam</td>\n",
       "      <td>0:0</td>\n",
       "    </tr>\n",
       "    <tr>\n",
       "      <th>7395884</th>\n",
       "      <td>25493542</td>\n",
       "      <td>COMPLETED</td>\n",
       "      <td>2020-10-31T23:56:49</td>\n",
       "      <td>2020-10-31 23:59:57</td>\n",
       "      <td>4096Mc</td>\n",
       "      <td>886.06M</td>\n",
       "      <td>12:00:00</td>\n",
       "      <td>00:03:08</td>\n",
       "      <td>1</td>\n",
       "      <td>1</td>\n",
       "      <td>production</td>\n",
       "      <td>0:0</td>\n",
       "    </tr>\n",
       "  </tbody>\n",
       "</table>\n",
       "<p>7375084 rows × 12 columns</p>\n",
       "</div>"
      ],
      "text/plain": [
       "              JOBID      STATE                BEGIN                 END  \\\n",
       "1          30853133  COMPLETED  2021-08-06T11:36:09 2021-09-05 11:36:32   \n",
       "2          30858137  COMPLETED  2021-08-06T19:04:39 2021-09-05 19:04:53   \n",
       "3          30935078  COMPLETED  2021-08-09T16:52:51 2021-09-07 20:52:55   \n",
       "4        31364111_2  COMPLETED  2021-08-17T07:45:07 2021-09-10 16:45:24   \n",
       "5        31364111_3  COMPLETED  2021-08-17T07:45:07 2021-09-06 16:17:34   \n",
       "...             ...        ...                  ...                 ...   \n",
       "7395880    25493434  COMPLETED  2020-10-31T23:39:00 2020-10-31 23:40:46   \n",
       "7395881    25493435  COMPLETED  2020-10-31T23:39:13 2020-10-31 23:40:38   \n",
       "7395882    25493476  COMPLETED  2020-10-31T23:46:29 2020-10-31 23:49:43   \n",
       "7395883    25493515  COMPLETED  2020-10-31T23:49:44 2020-10-31 23:51:40   \n",
       "7395884    25493542  COMPLETED  2020-10-31T23:56:49 2020-10-31 23:59:57   \n",
       "\n",
       "           REQMEM    USEDMEM      REQTIME     USEDTIME  NODES  CPUS  \\\n",
       "1        262144Mn  20604.62M  30-00:00:00  30-00:00:23      1     1   \n",
       "2        204800Mn  57553.77M  30-00:00:00  30-00:00:14      1    32   \n",
       "3         65536Mn  20577.96M  29-04:00:00  29-04:00:04      1     8   \n",
       "4         16384Mn   9733.43M  24-09:00:00  24-09:00:17      1     1   \n",
       "5         16384Mn   9708.04M  24-09:00:00  20-08:32:27      1     1   \n",
       "...           ...        ...          ...          ...    ...   ...   \n",
       "7395880    2000Mn      0.09M   2-00:00:00     00:01:46      1     1   \n",
       "7395881    2000Mn    187.92M   2-00:00:00     00:01:25      1     1   \n",
       "7395882    4096Mc    803.97M     12:00:00     00:03:14      1     1   \n",
       "7395883    2000Mn      0.09M   2-00:00:00     00:01:56      1     1   \n",
       "7395884    4096Mc    886.06M     12:00:00     00:03:08      1     1   \n",
       "\n",
       "            PARTITION EXITCODE  \n",
       "1        cgw-platypus      0:0  \n",
       "2           cgw-tbi01      0:0  \n",
       "3        cgw-platypus      0:0  \n",
       "4          production      0:0  \n",
       "5          production      0:0  \n",
       "...               ...      ...  \n",
       "7395880           sam      0:0  \n",
       "7395881           sam      0:0  \n",
       "7395882    production      0:0  \n",
       "7395883           sam      0:0  \n",
       "7395884    production      0:0  \n",
       "\n",
       "[7375084 rows x 12 columns]"
      ]
     },
     "execution_count": 34,
     "metadata": {},
     "output_type": "execute_result"
    }
   ],
   "source": [
    "jobs_completed['END'] = pd.to_datetime(jobs_completed['END'])\n",
    "jobs_completed"
   ]
  },
  {
   "cell_type": "code",
   "execution_count": 560,
   "id": "40807627-7613-41a6-a499-6fbaa37d3aa0",
   "metadata": {},
   "outputs": [
    {
     "data": {
      "text/html": [
       "<div>\n",
       "<style scoped>\n",
       "    .dataframe tbody tr th:only-of-type {\n",
       "        vertical-align: middle;\n",
       "    }\n",
       "\n",
       "    .dataframe tbody tr th {\n",
       "        vertical-align: top;\n",
       "    }\n",
       "\n",
       "    .dataframe thead th {\n",
       "        text-align: right;\n",
       "    }\n",
       "</style>\n",
       "<table border=\"1\" class=\"dataframe\">\n",
       "  <thead>\n",
       "    <tr style=\"text-align: right;\">\n",
       "      <th></th>\n",
       "      <th>index</th>\n",
       "      <th>JOBID</th>\n",
       "      <th>STATE</th>\n",
       "      <th>BEGIN</th>\n",
       "      <th>END</th>\n",
       "      <th>REQMEM</th>\n",
       "      <th>USEDMEM</th>\n",
       "      <th>REQTIME</th>\n",
       "      <th>USEDTIME</th>\n",
       "      <th>NODES</th>\n",
       "      <th>CPUS</th>\n",
       "      <th>PARTITION</th>\n",
       "      <th>EXITCODE</th>\n",
       "    </tr>\n",
       "  </thead>\n",
       "  <tbody>\n",
       "    <tr>\n",
       "      <th>0</th>\n",
       "      <td>3562927</td>\n",
       "      <td>29187355_253</td>\n",
       "      <td>COMPLETED</td>\n",
       "      <td>2021-05-10T21:02:17</td>\n",
       "      <td>2021-05-10 22:34:43</td>\n",
       "      <td>1024Mn</td>\n",
       "      <td>9.80M</td>\n",
       "      <td>08:00:00</td>\n",
       "      <td>01:32:26</td>\n",
       "      <td>1</td>\n",
       "      <td>1</td>\n",
       "      <td>production</td>\n",
       "      <td>0:0</td>\n",
       "    </tr>\n",
       "    <tr>\n",
       "      <th>1</th>\n",
       "      <td>2357460</td>\n",
       "      <td>30285481</td>\n",
       "      <td>COMPLETED</td>\n",
       "      <td>2021-07-18T21:49:33</td>\n",
       "      <td>2021-07-19 00:22:26</td>\n",
       "      <td>87040Mn</td>\n",
       "      <td>34121.52M</td>\n",
       "      <td>10:00:00</td>\n",
       "      <td>02:32:53</td>\n",
       "      <td>1</td>\n",
       "      <td>8</td>\n",
       "      <td>production</td>\n",
       "      <td>0:0</td>\n",
       "    </tr>\n",
       "    <tr>\n",
       "      <th>2</th>\n",
       "      <td>5129497</td>\n",
       "      <td>27397200_135</td>\n",
       "      <td>COMPLETED</td>\n",
       "      <td>2021-02-19T21:00:49</td>\n",
       "      <td>2021-02-20 07:24:20</td>\n",
       "      <td>2048Mc</td>\n",
       "      <td>392.44M</td>\n",
       "      <td>4-00:00:00</td>\n",
       "      <td>10:23:31</td>\n",
       "      <td>1</td>\n",
       "      <td>1</td>\n",
       "      <td>production</td>\n",
       "      <td>0:0</td>\n",
       "    </tr>\n",
       "    <tr>\n",
       "      <th>3</th>\n",
       "      <td>6463980</td>\n",
       "      <td>25834157_1367</td>\n",
       "      <td>COMPLETED</td>\n",
       "      <td>2020-11-16T16:34:31</td>\n",
       "      <td>2020-11-16 16:34:51</td>\n",
       "      <td>8192Mn</td>\n",
       "      <td>0</td>\n",
       "      <td>8-08:00:00</td>\n",
       "      <td>00:00:20</td>\n",
       "      <td>1</td>\n",
       "      <td>1</td>\n",
       "      <td>production</td>\n",
       "      <td>0:0</td>\n",
       "    </tr>\n",
       "    <tr>\n",
       "      <th>4</th>\n",
       "      <td>5337963</td>\n",
       "      <td>26617804_242</td>\n",
       "      <td>COMPLETED</td>\n",
       "      <td>2021-01-01T05:04:08</td>\n",
       "      <td>2021-01-01 14:46:12</td>\n",
       "      <td>4096Mc</td>\n",
       "      <td>2209.27M</td>\n",
       "      <td>2-00:00:00</td>\n",
       "      <td>09:42:04</td>\n",
       "      <td>1</td>\n",
       "      <td>1</td>\n",
       "      <td>production</td>\n",
       "      <td>0:0</td>\n",
       "    </tr>\n",
       "  </tbody>\n",
       "</table>\n",
       "</div>"
      ],
      "text/plain": [
       "     index          JOBID      STATE                BEGIN                 END  \\\n",
       "0  3562927   29187355_253  COMPLETED  2021-05-10T21:02:17 2021-05-10 22:34:43   \n",
       "1  2357460       30285481  COMPLETED  2021-07-18T21:49:33 2021-07-19 00:22:26   \n",
       "2  5129497   27397200_135  COMPLETED  2021-02-19T21:00:49 2021-02-20 07:24:20   \n",
       "3  6463980  25834157_1367  COMPLETED  2020-11-16T16:34:31 2020-11-16 16:34:51   \n",
       "4  5337963   26617804_242  COMPLETED  2021-01-01T05:04:08 2021-01-01 14:46:12   \n",
       "\n",
       "    REQMEM    USEDMEM     REQTIME  USEDTIME  NODES  CPUS   PARTITION EXITCODE  \n",
       "0   1024Mn      9.80M    08:00:00  01:32:26      1     1  production      0:0  \n",
       "1  87040Mn  34121.52M    10:00:00  02:32:53      1     8  production      0:0  \n",
       "2   2048Mc    392.44M  4-00:00:00  10:23:31      1     1  production      0:0  \n",
       "3   8192Mn          0  8-08:00:00  00:00:20      1     1  production      0:0  \n",
       "4   4096Mc   2209.27M  2-00:00:00  09:42:04      1     1  production      0:0  "
      ]
     },
     "execution_count": 560,
     "metadata": {},
     "output_type": "execute_result"
    }
   ],
   "source": [
    "testdf = jobs_completed.sample(5).reset_index()\n",
    "testdf"
   ]
  },
  {
   "cell_type": "code",
   "execution_count": null,
   "id": "1dfb0772-6e81-4b5e-b86c-bd32dfadfb8d",
   "metadata": {},
   "outputs": [],
   "source": [
    "for x in testdf['REQTIME']:\n",
    "    try: \n",
    "        x = pd.to_datetime(x, format=('%d-%H:%M:%S'))\n",
    "    except:\n",
    "        x = pd.to_datetime(x, format=('%H:%M:%S'))\n",
    "    print(x)\n",
    "testdf"
   ]
  },
  {
   "cell_type": "code",
   "execution_count": 556,
   "id": "bc42aa70-b6e4-45eb-846b-0968aebba0aa",
   "metadata": {},
   "outputs": [],
   "source": [
    "def timeconvert(x):\n",
    "    try: \n",
    "        x = pd.to_datetime(x, format=('%d-%H:%M:%S'))\n",
    "    except:\n",
    "        x = pd.to_datetime(x, format=('%H:%M:%S'))\n",
    "    return x"
   ]
  },
  {
   "cell_type": "code",
   "execution_count": 562,
   "id": "9be157ac-2e2a-47eb-857e-e2ebfd26baf2",
   "metadata": {},
   "outputs": [
    {
     "data": {
      "text/html": [
       "<div>\n",
       "<style scoped>\n",
       "    .dataframe tbody tr th:only-of-type {\n",
       "        vertical-align: middle;\n",
       "    }\n",
       "\n",
       "    .dataframe tbody tr th {\n",
       "        vertical-align: top;\n",
       "    }\n",
       "\n",
       "    .dataframe thead th {\n",
       "        text-align: right;\n",
       "    }\n",
       "</style>\n",
       "<table border=\"1\" class=\"dataframe\">\n",
       "  <thead>\n",
       "    <tr style=\"text-align: right;\">\n",
       "      <th></th>\n",
       "      <th>index</th>\n",
       "      <th>JOBID</th>\n",
       "      <th>STATE</th>\n",
       "      <th>BEGIN</th>\n",
       "      <th>END</th>\n",
       "      <th>REQMEM</th>\n",
       "      <th>USEDMEM</th>\n",
       "      <th>REQTIME</th>\n",
       "      <th>USEDTIME</th>\n",
       "      <th>NODES</th>\n",
       "      <th>CPUS</th>\n",
       "      <th>PARTITION</th>\n",
       "      <th>EXITCODE</th>\n",
       "    </tr>\n",
       "  </thead>\n",
       "  <tbody>\n",
       "    <tr>\n",
       "      <th>0</th>\n",
       "      <td>3562927</td>\n",
       "      <td>29187355_253</td>\n",
       "      <td>COMPLETED</td>\n",
       "      <td>2021-05-10T21:02:17</td>\n",
       "      <td>2021-05-10 22:34:43</td>\n",
       "      <td>1024Mn</td>\n",
       "      <td>9.80M</td>\n",
       "      <td>1900-01-01 08:00:00</td>\n",
       "      <td>01:32:26</td>\n",
       "      <td>1</td>\n",
       "      <td>1</td>\n",
       "      <td>production</td>\n",
       "      <td>0:0</td>\n",
       "    </tr>\n",
       "    <tr>\n",
       "      <th>1</th>\n",
       "      <td>2357460</td>\n",
       "      <td>30285481</td>\n",
       "      <td>COMPLETED</td>\n",
       "      <td>2021-07-18T21:49:33</td>\n",
       "      <td>2021-07-19 00:22:26</td>\n",
       "      <td>87040Mn</td>\n",
       "      <td>34121.52M</td>\n",
       "      <td>1900-01-01 10:00:00</td>\n",
       "      <td>02:32:53</td>\n",
       "      <td>1</td>\n",
       "      <td>8</td>\n",
       "      <td>production</td>\n",
       "      <td>0:0</td>\n",
       "    </tr>\n",
       "    <tr>\n",
       "      <th>2</th>\n",
       "      <td>5129497</td>\n",
       "      <td>27397200_135</td>\n",
       "      <td>COMPLETED</td>\n",
       "      <td>2021-02-19T21:00:49</td>\n",
       "      <td>2021-02-20 07:24:20</td>\n",
       "      <td>2048Mc</td>\n",
       "      <td>392.44M</td>\n",
       "      <td>1900-01-04 00:00:00</td>\n",
       "      <td>10:23:31</td>\n",
       "      <td>1</td>\n",
       "      <td>1</td>\n",
       "      <td>production</td>\n",
       "      <td>0:0</td>\n",
       "    </tr>\n",
       "    <tr>\n",
       "      <th>3</th>\n",
       "      <td>6463980</td>\n",
       "      <td>25834157_1367</td>\n",
       "      <td>COMPLETED</td>\n",
       "      <td>2020-11-16T16:34:31</td>\n",
       "      <td>2020-11-16 16:34:51</td>\n",
       "      <td>8192Mn</td>\n",
       "      <td>0</td>\n",
       "      <td>1900-01-08 08:00:00</td>\n",
       "      <td>00:00:20</td>\n",
       "      <td>1</td>\n",
       "      <td>1</td>\n",
       "      <td>production</td>\n",
       "      <td>0:0</td>\n",
       "    </tr>\n",
       "    <tr>\n",
       "      <th>4</th>\n",
       "      <td>5337963</td>\n",
       "      <td>26617804_242</td>\n",
       "      <td>COMPLETED</td>\n",
       "      <td>2021-01-01T05:04:08</td>\n",
       "      <td>2021-01-01 14:46:12</td>\n",
       "      <td>4096Mc</td>\n",
       "      <td>2209.27M</td>\n",
       "      <td>1900-01-02 00:00:00</td>\n",
       "      <td>09:42:04</td>\n",
       "      <td>1</td>\n",
       "      <td>1</td>\n",
       "      <td>production</td>\n",
       "      <td>0:0</td>\n",
       "    </tr>\n",
       "  </tbody>\n",
       "</table>\n",
       "</div>"
      ],
      "text/plain": [
       "     index          JOBID      STATE                BEGIN                 END  \\\n",
       "0  3562927   29187355_253  COMPLETED  2021-05-10T21:02:17 2021-05-10 22:34:43   \n",
       "1  2357460       30285481  COMPLETED  2021-07-18T21:49:33 2021-07-19 00:22:26   \n",
       "2  5129497   27397200_135  COMPLETED  2021-02-19T21:00:49 2021-02-20 07:24:20   \n",
       "3  6463980  25834157_1367  COMPLETED  2020-11-16T16:34:31 2020-11-16 16:34:51   \n",
       "4  5337963   26617804_242  COMPLETED  2021-01-01T05:04:08 2021-01-01 14:46:12   \n",
       "\n",
       "    REQMEM    USEDMEM             REQTIME  USEDTIME  NODES  CPUS   PARTITION  \\\n",
       "0   1024Mn      9.80M 1900-01-01 08:00:00  01:32:26      1     1  production   \n",
       "1  87040Mn  34121.52M 1900-01-01 10:00:00  02:32:53      1     8  production   \n",
       "2   2048Mc    392.44M 1900-01-04 00:00:00  10:23:31      1     1  production   \n",
       "3   8192Mn          0 1900-01-08 08:00:00  00:00:20      1     1  production   \n",
       "4   4096Mc   2209.27M 1900-01-02 00:00:00  09:42:04      1     1  production   \n",
       "\n",
       "  EXITCODE  \n",
       "0      0:0  \n",
       "1      0:0  \n",
       "2      0:0  \n",
       "3      0:0  \n",
       "4      0:0  "
      ]
     },
     "execution_count": 562,
     "metadata": {},
     "output_type": "execute_result"
    }
   ],
   "source": [
    "#df['new_column'] = [your_func(x) for x in df['column']]\n",
    "testdf['REQTIME'] = [timeconvert(x) for x in testdf['REQTIME']]\n",
    "testdf"
   ]
  },
  {
   "cell_type": "code",
   "execution_count": 310,
   "id": "b345dd1f-6b00-4a2c-be80-598b88c175a5",
   "metadata": {},
   "outputs": [
    {
     "data": {
      "text/html": [
       "<div>\n",
       "<style scoped>\n",
       "    .dataframe tbody tr th:only-of-type {\n",
       "        vertical-align: middle;\n",
       "    }\n",
       "\n",
       "    .dataframe tbody tr th {\n",
       "        vertical-align: top;\n",
       "    }\n",
       "\n",
       "    .dataframe thead th {\n",
       "        text-align: right;\n",
       "    }\n",
       "</style>\n",
       "<table border=\"1\" class=\"dataframe\">\n",
       "  <thead>\n",
       "    <tr style=\"text-align: right;\">\n",
       "      <th></th>\n",
       "      <th>JOBID</th>\n",
       "      <th>STATE</th>\n",
       "      <th>BEGIN</th>\n",
       "      <th>END</th>\n",
       "      <th>REQMEM</th>\n",
       "      <th>USEDMEM</th>\n",
       "      <th>REQTIME</th>\n",
       "      <th>USEDTIME</th>\n",
       "      <th>NODES</th>\n",
       "      <th>CPUS</th>\n",
       "      <th>PARTITION</th>\n",
       "      <th>EXITCODE</th>\n",
       "    </tr>\n",
       "  </thead>\n",
       "  <tbody>\n",
       "    <tr>\n",
       "      <th>6640577</th>\n",
       "      <td>24460577</td>\n",
       "      <td>COMPLETED</td>\n",
       "      <td>2020-10-01T00:05:55</td>\n",
       "      <td>2020-10-01 00:10:15</td>\n",
       "      <td>4096Mc</td>\n",
       "      <td>868.77M</td>\n",
       "      <td>12:00:00</td>\n",
       "      <td>00:04:20</td>\n",
       "      <td>1</td>\n",
       "      <td>1</td>\n",
       "      <td>production</td>\n",
       "      <td>0:0</td>\n",
       "    </tr>\n",
       "    <tr>\n",
       "      <th>6640635</th>\n",
       "      <td>24460647</td>\n",
       "      <td>COMPLETED</td>\n",
       "      <td>2020-10-01T00:10:38</td>\n",
       "      <td>2020-10-01 00:12:58</td>\n",
       "      <td>2000Mn</td>\n",
       "      <td>0.09M</td>\n",
       "      <td>2-00:00:00</td>\n",
       "      <td>00:02:20</td>\n",
       "      <td>1</td>\n",
       "      <td>1</td>\n",
       "      <td>sam</td>\n",
       "      <td>0:0</td>\n",
       "    </tr>\n",
       "    <tr>\n",
       "      <th>6640627</th>\n",
       "      <td>24460639</td>\n",
       "      <td>COMPLETED</td>\n",
       "      <td>2020-10-01T00:11:22</td>\n",
       "      <td>2020-10-01 00:13:31</td>\n",
       "      <td>1024Mc</td>\n",
       "      <td>221.10M</td>\n",
       "      <td>00:30:00</td>\n",
       "      <td>00:02:09</td>\n",
       "      <td>1</td>\n",
       "      <td>1</td>\n",
       "      <td>production</td>\n",
       "      <td>0:0</td>\n",
       "    </tr>\n",
       "    <tr>\n",
       "      <th>6640651</th>\n",
       "      <td>24460668</td>\n",
       "      <td>COMPLETED</td>\n",
       "      <td>2020-10-01T00:15:16</td>\n",
       "      <td>2020-10-01 00:17:23</td>\n",
       "      <td>2000Mn</td>\n",
       "      <td>0.09M</td>\n",
       "      <td>2-00:00:00</td>\n",
       "      <td>00:02:07</td>\n",
       "      <td>1</td>\n",
       "      <td>1</td>\n",
       "      <td>sam</td>\n",
       "      <td>0:0</td>\n",
       "    </tr>\n",
       "    <tr>\n",
       "      <th>6640654</th>\n",
       "      <td>24460671</td>\n",
       "      <td>COMPLETED</td>\n",
       "      <td>2020-10-01T00:17:08</td>\n",
       "      <td>2020-10-01 00:17:53</td>\n",
       "      <td>1024Mc</td>\n",
       "      <td>636.96M</td>\n",
       "      <td>00:30:00</td>\n",
       "      <td>00:00:45</td>\n",
       "      <td>1</td>\n",
       "      <td>1</td>\n",
       "      <td>production</td>\n",
       "      <td>0:0</td>\n",
       "    </tr>\n",
       "    <tr>\n",
       "      <th>...</th>\n",
       "      <td>...</td>\n",
       "      <td>...</td>\n",
       "      <td>...</td>\n",
       "      <td>...</td>\n",
       "      <td>...</td>\n",
       "      <td>...</td>\n",
       "      <td>...</td>\n",
       "      <td>...</td>\n",
       "      <td>...</td>\n",
       "      <td>...</td>\n",
       "      <td>...</td>\n",
       "      <td>...</td>\n",
       "    </tr>\n",
       "    <tr>\n",
       "      <th>927386</th>\n",
       "      <td>32923987</td>\n",
       "      <td>COMPLETED</td>\n",
       "      <td>2021-10-07T20:09:26</td>\n",
       "      <td>2021-10-07 20:11:21</td>\n",
       "      <td>2000Mn</td>\n",
       "      <td>0.09M</td>\n",
       "      <td>2-00:00:00</td>\n",
       "      <td>00:01:55</td>\n",
       "      <td>1</td>\n",
       "      <td>1</td>\n",
       "      <td>sam</td>\n",
       "      <td>0:0</td>\n",
       "    </tr>\n",
       "    <tr>\n",
       "      <th>927387</th>\n",
       "      <td>32923988</td>\n",
       "      <td>COMPLETED</td>\n",
       "      <td>2021-10-07T20:15:05</td>\n",
       "      <td>2021-10-07 20:17:24</td>\n",
       "      <td>2000Mn</td>\n",
       "      <td>0.09M</td>\n",
       "      <td>2-00:00:00</td>\n",
       "      <td>00:02:19</td>\n",
       "      <td>1</td>\n",
       "      <td>1</td>\n",
       "      <td>sam</td>\n",
       "      <td>0:0</td>\n",
       "    </tr>\n",
       "    <tr>\n",
       "      <th>927388</th>\n",
       "      <td>32923989</td>\n",
       "      <td>COMPLETED</td>\n",
       "      <td>2021-10-07T20:24:26</td>\n",
       "      <td>2021-10-07 20:26:01</td>\n",
       "      <td>2000Mn</td>\n",
       "      <td>393.07M</td>\n",
       "      <td>2-00:00:00</td>\n",
       "      <td>00:01:35</td>\n",
       "      <td>1</td>\n",
       "      <td>1</td>\n",
       "      <td>sam</td>\n",
       "      <td>0:0</td>\n",
       "    </tr>\n",
       "    <tr>\n",
       "      <th>1491977</th>\n",
       "      <td>32923996</td>\n",
       "      <td>COMPLETED</td>\n",
       "      <td>2021-10-07T20:31:08</td>\n",
       "      <td>2021-10-07 20:32:45</td>\n",
       "      <td>2000Mn</td>\n",
       "      <td>0.09M</td>\n",
       "      <td>2-00:00:00</td>\n",
       "      <td>00:01:37</td>\n",
       "      <td>1</td>\n",
       "      <td>1</td>\n",
       "      <td>sam</td>\n",
       "      <td>0:0</td>\n",
       "    </tr>\n",
       "    <tr>\n",
       "      <th>1491978</th>\n",
       "      <td>32923997</td>\n",
       "      <td>COMPLETED</td>\n",
       "      <td>2021-10-07T20:39:26</td>\n",
       "      <td>2021-10-07 20:41:11</td>\n",
       "      <td>2000Mn</td>\n",
       "      <td>0.09M</td>\n",
       "      <td>2-00:00:00</td>\n",
       "      <td>00:01:45</td>\n",
       "      <td>1</td>\n",
       "      <td>1</td>\n",
       "      <td>sam</td>\n",
       "      <td>0:0</td>\n",
       "    </tr>\n",
       "  </tbody>\n",
       "</table>\n",
       "<p>7375084 rows × 12 columns</p>\n",
       "</div>"
      ],
      "text/plain": [
       "            JOBID      STATE                BEGIN                 END  REQMEM  \\\n",
       "6640577  24460577  COMPLETED  2020-10-01T00:05:55 2020-10-01 00:10:15  4096Mc   \n",
       "6640635  24460647  COMPLETED  2020-10-01T00:10:38 2020-10-01 00:12:58  2000Mn   \n",
       "6640627  24460639  COMPLETED  2020-10-01T00:11:22 2020-10-01 00:13:31  1024Mc   \n",
       "6640651  24460668  COMPLETED  2020-10-01T00:15:16 2020-10-01 00:17:23  2000Mn   \n",
       "6640654  24460671  COMPLETED  2020-10-01T00:17:08 2020-10-01 00:17:53  1024Mc   \n",
       "...           ...        ...                  ...                 ...     ...   \n",
       "927386   32923987  COMPLETED  2021-10-07T20:09:26 2021-10-07 20:11:21  2000Mn   \n",
       "927387   32923988  COMPLETED  2021-10-07T20:15:05 2021-10-07 20:17:24  2000Mn   \n",
       "927388   32923989  COMPLETED  2021-10-07T20:24:26 2021-10-07 20:26:01  2000Mn   \n",
       "1491977  32923996  COMPLETED  2021-10-07T20:31:08 2021-10-07 20:32:45  2000Mn   \n",
       "1491978  32923997  COMPLETED  2021-10-07T20:39:26 2021-10-07 20:41:11  2000Mn   \n",
       "\n",
       "         USEDMEM     REQTIME  USEDTIME  NODES  CPUS   PARTITION EXITCODE  \n",
       "6640577  868.77M    12:00:00  00:04:20      1     1  production      0:0  \n",
       "6640635    0.09M  2-00:00:00  00:02:20      1     1         sam      0:0  \n",
       "6640627  221.10M    00:30:00  00:02:09      1     1  production      0:0  \n",
       "6640651    0.09M  2-00:00:00  00:02:07      1     1         sam      0:0  \n",
       "6640654  636.96M    00:30:00  00:00:45      1     1  production      0:0  \n",
       "...          ...         ...       ...    ...   ...         ...      ...  \n",
       "927386     0.09M  2-00:00:00  00:01:55      1     1         sam      0:0  \n",
       "927387     0.09M  2-00:00:00  00:02:19      1     1         sam      0:0  \n",
       "927388   393.07M  2-00:00:00  00:01:35      1     1         sam      0:0  \n",
       "1491977    0.09M  2-00:00:00  00:01:37      1     1         sam      0:0  \n",
       "1491978    0.09M  2-00:00:00  00:01:45      1     1         sam      0:0  \n",
       "\n",
       "[7375084 rows x 12 columns]"
      ]
     },
     "execution_count": 310,
     "metadata": {},
     "output_type": "execute_result"
    }
   ],
   "source": [
    "jobs_completed = jobs_completed.sort_values('END')\n",
    "jobs_completed"
   ]
  },
  {
   "cell_type": "code",
   "execution_count": 316,
   "id": "d53c1279-39d7-4e00-81dc-891e49743c5d",
   "metadata": {},
   "outputs": [
    {
     "name": "stdout",
     "output_type": "stream",
     "text": [
      "2020-10-01 00:10:15\n",
      "2021-10-07 20:41:11\n"
     ]
    }
   ],
   "source": [
    "print(jobs_completed['END'].min())\n",
    "print(jobs_completed['END'].max())"
   ]
  },
  {
   "cell_type": "code",
   "execution_count": 36,
   "id": "f040389c-e7aa-47b0-88b8-fa2984859455",
   "metadata": {},
   "outputs": [
    {
     "data": {
      "text/plain": [
       "END\n",
       "2021-09-05 11:36:32    2\n",
       "2021-09-05 19:04:53    1\n",
       "2021-09-07 20:52:55    1\n",
       "2021-09-10 16:45:24    1\n",
       "2021-09-06 16:17:34    1\n",
       "                      ..\n",
       "2020-10-31 23:53:21    1\n",
       "2020-10-31 23:21:34    1\n",
       "2020-10-31 23:38:46    1\n",
       "2020-10-31 23:40:38    1\n",
       "2020-10-31 23:49:43    1\n",
       "Name: count, Length: 4100858, dtype: int64"
      ]
     },
     "execution_count": 36,
     "metadata": {},
     "output_type": "execute_result"
    }
   ],
   "source": [
    "jobs_completed['END'].value_counts(sort=False)"
   ]
  },
  {
   "cell_type": "code",
   "execution_count": 58,
   "id": "92bc996a-0a6d-46cb-8110-01b4d5b01271",
   "metadata": {},
   "outputs": [
    {
     "data": {
      "text/plain": [
       "<matplotlib.collections.LineCollection at 0x27bf0665670>"
      ]
     },
     "execution_count": 58,
     "metadata": {},
     "output_type": "execute_result"
    },
    {
     "data": {
      "image/png": "[encoded data removed]",
      "text/plain": [
       "<Figure size 1200x800 with 1 Axes>"
      ]
     },
     "metadata": {},
     "output_type": "display_data"
    }
   ],
   "source": [
    "plt.figure(figsize = (12,8))\n",
    "jobs_completed['END'].value_counts(sort=False).plot(kind='line', xlabel='End Date')\n",
    "xmin, xmax = plt.xlim()\n",
    "plt.hlines(y = 200, xmin=xmin, xmax=xmax, color = 'red', linestyle = 'dashed')"
   ]
  },
  {
   "cell_type": "code",
   "execution_count": 266,
   "id": "a2dc2bf8-9d27-483c-b8fa-1816eb30e5e0",
   "metadata": {},
   "outputs": [
    {
     "data": {
      "text/plain": [
       "<Axes: xlabel='END'>"
      ]
     },
     "execution_count": 266,
     "metadata": {},
     "output_type": "execute_result"
    },
    {
     "data": {
      "image/png": "[encoded data removed]",
      "text/plain": [
       "<Figure size 1200x600 with 1 Axes>"
      ]
     },
     "metadata": {},
     "output_type": "display_data"
    }
   ],
   "source": [
    "plt.figure(figsize = (12,6))\n",
    "jobs_completed['END'].value_counts().sort_index().plot()\n",
    "#xmin, xmax = plt.xlim()\n",
    "#plt.hlines(y = 200, xmin=xmin, xmax=xmax, color = 'red', linestyle = 'dashed')"
   ]
  },
  {
   "cell_type": "code",
   "execution_count": 270,
   "id": "7ed7641a-2c0f-45b7-9134-934af98b805a",
   "metadata": {},
   "outputs": [
    {
     "data": {
      "text/plain": [
       "END\n",
       "2021-09-02 11:15:15    232\n",
       "2021-09-02 11:15:14    197\n",
       "2021-09-04 21:25:04    161\n",
       "2021-09-04 21:25:03    167\n",
       "2021-09-04 21:25:02    159\n",
       "2021-09-10 14:19:07    150\n",
       "2021-09-10 14:19:06    153\n",
       "2021-09-22 11:19:56    162\n",
       "2021-08-25 15:55:49    184\n",
       "2021-08-26 20:13:35    173\n",
       "2021-08-27 10:08:49    173\n",
       "2021-08-30 14:07:14    157\n",
       "2021-08-09 21:02:50    169\n",
       "2021-07-06 14:42:30    155\n",
       "2021-07-12 11:36:02    312\n",
       "2021-06-03 17:31:18    228\n",
       "2021-06-03 17:31:26    193\n",
       "2021-06-03 17:31:28    181\n",
       "2021-06-04 09:37:19    214\n",
       "2021-06-16 22:34:57    247\n",
       "2021-05-06 14:38:57    175\n",
       "2021-05-08 20:41:35    151\n",
       "2021-05-08 20:41:34    186\n",
       "2021-05-10 20:55:21    195\n",
       "2021-05-10 20:55:20    237\n",
       "2021-05-11 19:13:10    158\n",
       "2021-04-02 02:00:19    173\n",
       "2021-04-02 04:24:35    150\n",
       "2021-03-08 02:10:43    172\n",
       "2021-03-03 13:35:05    154\n",
       "2021-02-10 13:04:28    240\n",
       "2021-02-06 07:04:04    155\n",
       "2021-02-08 16:04:14    174\n",
       "2021-02-17 16:45:58    297\n",
       "2021-02-16 15:45:34    173\n",
       "2021-02-16 23:20:36    187\n",
       "2021-02-17 16:45:57    284\n",
       "2021-02-25 23:56:42    274\n",
       "2021-01-27 17:11:50    199\n",
       "2020-12-04 08:28:27    173\n",
       "2020-12-09 06:44:06    160\n",
       "2020-12-09 06:44:05    160\n",
       "2020-12-11 09:02:40    207\n",
       "2020-12-29 10:39:22    172\n",
       "2020-11-09 18:11:13    151\n",
       "2020-11-09 18:11:57    151\n",
       "2020-11-13 15:31:51    199\n",
       "2020-11-13 15:31:50    178\n",
       "2020-10-02 09:40:55    188\n",
       "2020-10-02 12:21:41    198\n",
       "2020-10-07 15:03:10    242\n",
       "2020-10-15 15:26:23    158\n",
       "2020-10-23 20:06:53    150\n",
       "Name: count, dtype: int64"
      ]
     },
     "execution_count": 270,
     "metadata": {},
     "output_type": "execute_result"
    }
   ],
   "source": [
    "jobs_completed['END'].value_counts(sort=False).loc[lambda x : x >= 150]"
   ]
  },
  {
   "cell_type": "markdown",
   "id": "a00c9e1c-0830-4b57-ba1e-47ded5ea482e",
   "metadata": {},
   "source": [
    "The slurm_wrapper_ce5.log and slurm_wrapper_ce6.log files contain logs of jobs submitted from the Open Science Grid."
   ]
  },
  {
   "cell_type": "code",
   "execution_count": 80,
   "id": "d0d4b076-7fe1-4ed6-8702-9ca13793d4c0",
   "metadata": {},
   "outputs": [
    {
     "data": {
      "text/html": [
       "<div>\n",
       "<style scoped>\n",
       "    .dataframe tbody tr th:only-of-type {\n",
       "        vertical-align: middle;\n",
       "    }\n",
       "\n",
       "    .dataframe tbody tr th {\n",
       "        vertical-align: top;\n",
       "    }\n",
       "\n",
       "    .dataframe thead th {\n",
       "        text-align: right;\n",
       "    }\n",
       "</style>\n",
       "<table border=\"1\" class=\"dataframe\">\n",
       "  <thead>\n",
       "    <tr style=\"text-align: right;\">\n",
       "      <th></th>\n",
       "      <th>timestamp</th>\n",
       "      <th>user</th>\n",
       "      <th>code</th>\n",
       "      <th>responsetime</th>\n",
       "      <th>return_code</th>\n",
       "      <th>command</th>\n",
       "    </tr>\n",
       "  </thead>\n",
       "  <tbody>\n",
       "    <tr>\n",
       "      <th>0</th>\n",
       "      <td>2020-10-16 08:15:39.278699</td>\n",
       "      <td>user 0</td>\n",
       "      <td>retry 0</td>\n",
       "      <td>time 0.07347559928894043</td>\n",
       "      <td>returncode 0</td>\n",
       "      <td>command ['/usr/bin/sacct', '-u', 'appelte1', '...</td>\n",
       "    </tr>\n",
       "    <tr>\n",
       "      <th>1</th>\n",
       "      <td>2020-10-16 08:18:08.313309</td>\n",
       "      <td>user 0</td>\n",
       "      <td>retry 0</td>\n",
       "      <td>time 0.18363237380981445</td>\n",
       "      <td>returncode 0</td>\n",
       "      <td>command ['/usr/bin/sacct', '-u', 'appelte1', '...</td>\n",
       "    </tr>\n",
       "    <tr>\n",
       "      <th>2</th>\n",
       "      <td>2020-10-16 08:22:48.128689</td>\n",
       "      <td>user 0</td>\n",
       "      <td>retry 0</td>\n",
       "      <td>time 0.07547116279602051</td>\n",
       "      <td>returncode 0</td>\n",
       "      <td>command ['/usr/bin/sacct', '-u', 'appelte1', '...</td>\n",
       "    </tr>\n",
       "    <tr>\n",
       "      <th>3</th>\n",
       "      <td>2020-10-16 08:25:13.257408</td>\n",
       "      <td>user 0</td>\n",
       "      <td>retry 0</td>\n",
       "      <td>time 0.09484362602233887</td>\n",
       "      <td>returncode 0</td>\n",
       "      <td>command ['/usr/bin/sacct', '-u', 'appelte1', '...</td>\n",
       "    </tr>\n",
       "    <tr>\n",
       "      <th>4</th>\n",
       "      <td>2020-10-16 08:31:01.460723</td>\n",
       "      <td>user 0</td>\n",
       "      <td>retry 0</td>\n",
       "      <td>time 0.07498788833618164</td>\n",
       "      <td>returncode 0</td>\n",
       "      <td>command ['/usr/bin/sacct', '-u', 'appelte1', '...</td>\n",
       "    </tr>\n",
       "  </tbody>\n",
       "</table>\n",
       "</div>"
      ],
      "text/plain": [
       "                    timestamp    user     code              responsetime  \\\n",
       "0  2020-10-16 08:15:39.278699  user 0  retry 0  time 0.07347559928894043   \n",
       "1  2020-10-16 08:18:08.313309  user 0  retry 0  time 0.18363237380981445   \n",
       "2  2020-10-16 08:22:48.128689  user 0  retry 0  time 0.07547116279602051   \n",
       "3  2020-10-16 08:25:13.257408  user 0  retry 0  time 0.09484362602233887   \n",
       "4  2020-10-16 08:31:01.460723  user 0  retry 0  time 0.07498788833618164   \n",
       "\n",
       "    return_code                                            command  \n",
       "0  returncode 0  command ['/usr/bin/sacct', '-u', 'appelte1', '...  \n",
       "1  returncode 0  command ['/usr/bin/sacct', '-u', 'appelte1', '...  \n",
       "2  returncode 0  command ['/usr/bin/sacct', '-u', 'appelte1', '...  \n",
       "3  returncode 0  command ['/usr/bin/sacct', '-u', 'appelte1', '...  \n",
       "4  returncode 0  command ['/usr/bin/sacct', '-u', 'appelte1', '...  "
      ]
     },
     "execution_count": 80,
     "metadata": {},
     "output_type": "execute_result"
    }
   ],
   "source": [
    "ce5 = pd.read_csv('../data/slurm_wrapper_ce5.log',\n",
    "                  header=None,\n",
    "                  names=['timestamp', 'user', 'code', 'responsetime', 'return_code', 'command'],\n",
    "                  delimiter=' - ',\n",
    "                  engine='python',)\n",
    "\n",
    "ce5.head()"
   ]
  },
  {
   "cell_type": "code",
   "execution_count": 82,
   "id": "cd44dddc-3946-44e3-b79a-b6324a695737",
   "metadata": {},
   "outputs": [
    {
     "data": {
      "text/plain": [
       "(4770893, 6)"
      ]
     },
     "execution_count": 82,
     "metadata": {},
     "output_type": "execute_result"
    }
   ],
   "source": [
    "ce5.shape"
   ]
  },
  {
   "cell_type": "markdown",
   "id": "5a7c6a66-65c5-466c-9e8e-44a2ba940742",
   "metadata": {},
   "source": [
    "For this project, we are interested in jobs from user 9204 (the test user) where the command starts with '/usr/bin/sbatch', the returncode is non-zero and the time is greater than 15. These conditions indicate that the scheduler became unresponsive at that point in time."
   ]
  },
  {
   "cell_type": "code",
   "execution_count": 84,
   "id": "6424b766-f984-4890-bb66-b1862a53fcb7",
   "metadata": {},
   "outputs": [
    {
     "data": {
      "text/html": [
       "<div>\n",
       "<style scoped>\n",
       "    .dataframe tbody tr th:only-of-type {\n",
       "        vertical-align: middle;\n",
       "    }\n",
       "\n",
       "    .dataframe tbody tr th {\n",
       "        vertical-align: top;\n",
       "    }\n",
       "\n",
       "    .dataframe thead th {\n",
       "        text-align: right;\n",
       "    }\n",
       "</style>\n",
       "<table border=\"1\" class=\"dataframe\">\n",
       "  <thead>\n",
       "    <tr style=\"text-align: right;\">\n",
       "      <th></th>\n",
       "      <th>index</th>\n",
       "      <th>timestamp</th>\n",
       "      <th>user</th>\n",
       "      <th>code</th>\n",
       "      <th>responsetime</th>\n",
       "      <th>return_code</th>\n",
       "      <th>command</th>\n",
       "    </tr>\n",
       "  </thead>\n",
       "  <tbody>\n",
       "    <tr>\n",
       "      <th>0</th>\n",
       "      <td>564</td>\n",
       "      <td>2020-10-16 08:59:38.926896</td>\n",
       "      <td>user 9204</td>\n",
       "      <td>retry 0</td>\n",
       "      <td>time 0.1231698989868164</td>\n",
       "      <td>returncode 1</td>\n",
       "      <td>command ['/usr/bin/scontrol', 'show', 'job', '...</td>\n",
       "    </tr>\n",
       "    <tr>\n",
       "      <th>1</th>\n",
       "      <td>565</td>\n",
       "      <td>2020-10-16 08:59:38.986336</td>\n",
       "      <td>user 9204</td>\n",
       "      <td>retry 1</td>\n",
       "      <td>time 0.05905652046203613</td>\n",
       "      <td>returncode 1</td>\n",
       "      <td>command ['/usr/bin/scontrol', 'show', 'job', '...</td>\n",
       "    </tr>\n",
       "    <tr>\n",
       "      <th>2</th>\n",
       "      <td>566</td>\n",
       "      <td>2020-10-16 08:59:39.133897</td>\n",
       "      <td>user 9204</td>\n",
       "      <td>retry 2</td>\n",
       "      <td>time 0.1472628116607666</td>\n",
       "      <td>returncode 1</td>\n",
       "      <td>command ['/usr/bin/scontrol', 'show', 'job', '...</td>\n",
       "    </tr>\n",
       "    <tr>\n",
       "      <th>3</th>\n",
       "      <td>683</td>\n",
       "      <td>2020-10-16 09:11:17.798315</td>\n",
       "      <td>user 9204</td>\n",
       "      <td>retry 0</td>\n",
       "      <td>time 0.02103400230407715</td>\n",
       "      <td>returncode 1</td>\n",
       "      <td>command ['/usr/bin/scontrol', 'show', 'job', '...</td>\n",
       "    </tr>\n",
       "    <tr>\n",
       "      <th>4</th>\n",
       "      <td>684</td>\n",
       "      <td>2020-10-16 09:11:17.817819</td>\n",
       "      <td>user 9204</td>\n",
       "      <td>retry 1</td>\n",
       "      <td>time 0.019124746322631836</td>\n",
       "      <td>returncode 1</td>\n",
       "      <td>command ['/usr/bin/scontrol', 'show', 'job', '...</td>\n",
       "    </tr>\n",
       "    <tr>\n",
       "      <th>...</th>\n",
       "      <td>...</td>\n",
       "      <td>...</td>\n",
       "      <td>...</td>\n",
       "      <td>...</td>\n",
       "      <td>...</td>\n",
       "      <td>...</td>\n",
       "      <td>...</td>\n",
       "    </tr>\n",
       "    <tr>\n",
       "      <th>29425</th>\n",
       "      <td>4729891</td>\n",
       "      <td>2021-10-02 16:01:42.684681</td>\n",
       "      <td>user 9204</td>\n",
       "      <td>retry 0</td>\n",
       "      <td>time 21.28179407119751</td>\n",
       "      <td>returncode 1</td>\n",
       "      <td>command ['/usr/bin/squeue', '-o', '%i %T', '-u...</td>\n",
       "    </tr>\n",
       "    <tr>\n",
       "      <th>29426</th>\n",
       "      <td>4730187</td>\n",
       "      <td>2021-10-02 16:34:51.632533</td>\n",
       "      <td>user 9204</td>\n",
       "      <td>retry 0</td>\n",
       "      <td>time 20.060213804244995</td>\n",
       "      <td>returncode 1</td>\n",
       "      <td>command ['/usr/bin/squeue', '-o', '%i %T', '-u...</td>\n",
       "    </tr>\n",
       "    <tr>\n",
       "      <th>29427</th>\n",
       "      <td>4730701</td>\n",
       "      <td>2021-10-02 17:33:19.126956</td>\n",
       "      <td>user 9204</td>\n",
       "      <td>retry 0</td>\n",
       "      <td>time 20.50884461402893</td>\n",
       "      <td>returncode 1</td>\n",
       "      <td>command ['/usr/bin/squeue', '-o', '%i %T', '-j...</td>\n",
       "    </tr>\n",
       "    <tr>\n",
       "      <th>29428</th>\n",
       "      <td>4730705</td>\n",
       "      <td>2021-10-02 17:33:39.156362</td>\n",
       "      <td>user 9204</td>\n",
       "      <td>retry 1</td>\n",
       "      <td>time 20.028889894485474</td>\n",
       "      <td>returncode 1</td>\n",
       "      <td>command ['/usr/bin/squeue', '-o', '%i %T', '-j...</td>\n",
       "    </tr>\n",
       "    <tr>\n",
       "      <th>29429</th>\n",
       "      <td>4731181</td>\n",
       "      <td>2021-10-02 18:29:08.267199</td>\n",
       "      <td>user 9204</td>\n",
       "      <td>retry 0</td>\n",
       "      <td>time 20.04314613342285</td>\n",
       "      <td>returncode 1</td>\n",
       "      <td>command ['/usr/bin/sbatch', '/tmp/condor_g_scr...</td>\n",
       "    </tr>\n",
       "  </tbody>\n",
       "</table>\n",
       "<p>29430 rows × 7 columns</p>\n",
       "</div>"
      ],
      "text/plain": [
       "         index                   timestamp       user     code  \\\n",
       "0          564  2020-10-16 08:59:38.926896  user 9204  retry 0   \n",
       "1          565  2020-10-16 08:59:38.986336  user 9204  retry 1   \n",
       "2          566  2020-10-16 08:59:39.133897  user 9204  retry 2   \n",
       "3          683  2020-10-16 09:11:17.798315  user 9204  retry 0   \n",
       "4          684  2020-10-16 09:11:17.817819  user 9204  retry 1   \n",
       "...        ...                         ...        ...      ...   \n",
       "29425  4729891  2021-10-02 16:01:42.684681  user 9204  retry 0   \n",
       "29426  4730187  2021-10-02 16:34:51.632533  user 9204  retry 0   \n",
       "29427  4730701  2021-10-02 17:33:19.126956  user 9204  retry 0   \n",
       "29428  4730705  2021-10-02 17:33:39.156362  user 9204  retry 1   \n",
       "29429  4731181  2021-10-02 18:29:08.267199  user 9204  retry 0   \n",
       "\n",
       "                    responsetime   return_code  \\\n",
       "0        time 0.1231698989868164  returncode 1   \n",
       "1       time 0.05905652046203613  returncode 1   \n",
       "2        time 0.1472628116607666  returncode 1   \n",
       "3       time 0.02103400230407715  returncode 1   \n",
       "4      time 0.019124746322631836  returncode 1   \n",
       "...                          ...           ...   \n",
       "29425     time 21.28179407119751  returncode 1   \n",
       "29426    time 20.060213804244995  returncode 1   \n",
       "29427     time 20.50884461402893  returncode 1   \n",
       "29428    time 20.028889894485474  returncode 1   \n",
       "29429     time 20.04314613342285  returncode 1   \n",
       "\n",
       "                                                 command  \n",
       "0      command ['/usr/bin/scontrol', 'show', 'job', '...  \n",
       "1      command ['/usr/bin/scontrol', 'show', 'job', '...  \n",
       "2      command ['/usr/bin/scontrol', 'show', 'job', '...  \n",
       "3      command ['/usr/bin/scontrol', 'show', 'job', '...  \n",
       "4      command ['/usr/bin/scontrol', 'show', 'job', '...  \n",
       "...                                                  ...  \n",
       "29425  command ['/usr/bin/squeue', '-o', '%i %T', '-u...  \n",
       "29426  command ['/usr/bin/squeue', '-o', '%i %T', '-u...  \n",
       "29427  command ['/usr/bin/squeue', '-o', '%i %T', '-j...  \n",
       "29428  command ['/usr/bin/squeue', '-o', '%i %T', '-j...  \n",
       "29429  command ['/usr/bin/sbatch', '/tmp/condor_g_scr...  \n",
       "\n",
       "[29430 rows x 7 columns]"
      ]
     },
     "execution_count": 84,
     "metadata": {},
     "output_type": "execute_result"
    }
   ],
   "source": [
    "ce5_user9204 = ce5.loc[(ce5['user'] == 'user 9204') & (ce5['return_code'] != 'returncode 0')].reset_index()\n",
    "ce5_user9204"
   ]
  },
  {
   "cell_type": "code",
   "execution_count": 88,
   "id": "f0e18678-b494-4c01-9703-6efdd493fdc5",
   "metadata": {},
   "outputs": [
    {
     "data": {
      "text/plain": [
       "0         0.123170\n",
       "1         0.059057\n",
       "2         0.147263\n",
       "3         0.021034\n",
       "4         0.019125\n",
       "           ...    \n",
       "29425    21.281794\n",
       "29426    20.060214\n",
       "29427    20.508845\n",
       "29428    20.028890\n",
       "29429    20.043146\n",
       "Name: responsetime, Length: 29430, dtype: float64"
      ]
     },
     "execution_count": 88,
     "metadata": {},
     "output_type": "execute_result"
    }
   ],
   "source": [
    "ce5_user9204['responsetime'] = ce5_user9204['responsetime'].str.replace(r'\\w+\\s', '', regex=True).astype(float)\n",
    "ce5_user9204['responsetime']"
   ]
  },
  {
   "cell_type": "code",
   "execution_count": 90,
   "id": "0a896802-00d7-4a52-994c-f50596d886d7",
   "metadata": {},
   "outputs": [
    {
     "name": "stdout",
     "output_type": "stream",
     "text": [
      "<class 'pandas.core.frame.DataFrame'>\n",
      "RangeIndex: 29430 entries, 0 to 29429\n",
      "Data columns (total 7 columns):\n",
      " #   Column        Non-Null Count  Dtype  \n",
      "---  ------        --------------  -----  \n",
      " 0   index         29430 non-null  int64  \n",
      " 1   timestamp     29430 non-null  object \n",
      " 2   user          29430 non-null  object \n",
      " 3   code          29430 non-null  object \n",
      " 4   responsetime  29430 non-null  float64\n",
      " 5   return_code   29430 non-null  object \n",
      " 6   command       29430 non-null  object \n",
      "dtypes: float64(1), int64(1), object(5)\n",
      "memory usage: 1.6+ MB\n"
     ]
    }
   ],
   "source": [
    "ce5_user9204.info()"
   ]
  },
  {
   "cell_type": "code",
   "execution_count": 308,
   "id": "f23e8669-28b9-4892-9b7d-b123f80ba770",
   "metadata": {},
   "outputs": [
    {
     "data": {
      "text/plain": [
       "\"command ['/usr/bin/sbatch', '/tmp/condor_g_scratch.0x5556727577c0.1189023/bl_g77bis']\""
      ]
     },
     "execution_count": 308,
     "metadata": {},
     "output_type": "execute_result"
    }
   ],
   "source": [
    "for x in ce5_user9204['command']:\n",
    "    x.find(\"command['usr/bin/sbatch\")\n",
    "x"
   ]
  },
  {
   "cell_type": "code",
   "execution_count": 302,
   "id": "c0df437c-65df-4249-bfdf-5047e3789cfb",
   "metadata": {},
   "outputs": [
    {
     "data": {
      "text/plain": [
       "0        False\n",
       "1        False\n",
       "2        False\n",
       "3        False\n",
       "4        False\n",
       "         ...  \n",
       "29425    False\n",
       "29426    False\n",
       "29427    False\n",
       "29428    False\n",
       "29429    False\n",
       "Name: command, Length: 29430, dtype: bool"
      ]
     },
     "execution_count": 302,
     "metadata": {},
     "output_type": "execute_result"
    }
   ],
   "source": [
    "#mask = df.apply(lambda x: x.str.contains(r'\\^', na=False))\n",
    "#ce5_user9204_batch = ce5_user9204['command'].apply(lambda x : x.str.contains(r\"\\command['usr/bin/sbatch\"))\n",
    "#ce5_user9204_batch = ce5_user9204.loc[ce5_user9204['command'].str.contains(\"command\\\\['usr/bin/sbatch\")]\n",
    "#ce5_user9204_batch\n",
    "ce5_user9204['command'].str.contains(\"command['usr/bin/sbatch\", regex=False)"
   ]
  },
  {
   "cell_type": "code",
   "execution_count": 304,
   "id": "93f44dda-ac0e-49f8-8182-d943e13819f0",
   "metadata": {},
   "outputs": [
    {
     "data": {
      "text/html": [
       "<div>\n",
       "<style scoped>\n",
       "    .dataframe tbody tr th:only-of-type {\n",
       "        vertical-align: middle;\n",
       "    }\n",
       "\n",
       "    .dataframe tbody tr th {\n",
       "        vertical-align: top;\n",
       "    }\n",
       "\n",
       "    .dataframe thead th {\n",
       "        text-align: right;\n",
       "    }\n",
       "</style>\n",
       "<table border=\"1\" class=\"dataframe\">\n",
       "  <thead>\n",
       "    <tr style=\"text-align: right;\">\n",
       "      <th></th>\n",
       "      <th>index</th>\n",
       "      <th>timestamp</th>\n",
       "      <th>user</th>\n",
       "      <th>code</th>\n",
       "      <th>responsetime</th>\n",
       "      <th>return_code</th>\n",
       "      <th>command</th>\n",
       "    </tr>\n",
       "  </thead>\n",
       "  <tbody>\n",
       "    <tr>\n",
       "      <th>0</th>\n",
       "      <td>564</td>\n",
       "      <td>2020-10-16 08:59:38.926896</td>\n",
       "      <td>user 9204</td>\n",
       "      <td>retry 0</td>\n",
       "      <td>0.123170</td>\n",
       "      <td>returncode 1</td>\n",
       "      <td>command ['/usr/bin/scontrol', 'show', 'job', '...</td>\n",
       "    </tr>\n",
       "    <tr>\n",
       "      <th>1</th>\n",
       "      <td>565</td>\n",
       "      <td>2020-10-16 08:59:38.986336</td>\n",
       "      <td>user 9204</td>\n",
       "      <td>retry 1</td>\n",
       "      <td>0.059057</td>\n",
       "      <td>returncode 1</td>\n",
       "      <td>command ['/usr/bin/scontrol', 'show', 'job', '...</td>\n",
       "    </tr>\n",
       "    <tr>\n",
       "      <th>2</th>\n",
       "      <td>566</td>\n",
       "      <td>2020-10-16 08:59:39.133897</td>\n",
       "      <td>user 9204</td>\n",
       "      <td>retry 2</td>\n",
       "      <td>0.147263</td>\n",
       "      <td>returncode 1</td>\n",
       "      <td>command ['/usr/bin/scontrol', 'show', 'job', '...</td>\n",
       "    </tr>\n",
       "    <tr>\n",
       "      <th>3</th>\n",
       "      <td>683</td>\n",
       "      <td>2020-10-16 09:11:17.798315</td>\n",
       "      <td>user 9204</td>\n",
       "      <td>retry 0</td>\n",
       "      <td>0.021034</td>\n",
       "      <td>returncode 1</td>\n",
       "      <td>command ['/usr/bin/scontrol', 'show', 'job', '...</td>\n",
       "    </tr>\n",
       "    <tr>\n",
       "      <th>4</th>\n",
       "      <td>684</td>\n",
       "      <td>2020-10-16 09:11:17.817819</td>\n",
       "      <td>user 9204</td>\n",
       "      <td>retry 1</td>\n",
       "      <td>0.019125</td>\n",
       "      <td>returncode 1</td>\n",
       "      <td>command ['/usr/bin/scontrol', 'show', 'job', '...</td>\n",
       "    </tr>\n",
       "    <tr>\n",
       "      <th>...</th>\n",
       "      <td>...</td>\n",
       "      <td>...</td>\n",
       "      <td>...</td>\n",
       "      <td>...</td>\n",
       "      <td>...</td>\n",
       "      <td>...</td>\n",
       "      <td>...</td>\n",
       "    </tr>\n",
       "    <tr>\n",
       "      <th>29425</th>\n",
       "      <td>4729891</td>\n",
       "      <td>2021-10-02 16:01:42.684681</td>\n",
       "      <td>user 9204</td>\n",
       "      <td>retry 0</td>\n",
       "      <td>21.281794</td>\n",
       "      <td>returncode 1</td>\n",
       "      <td>command ['/usr/bin/squeue', '-o', '%i %T', '-u...</td>\n",
       "    </tr>\n",
       "    <tr>\n",
       "      <th>29426</th>\n",
       "      <td>4730187</td>\n",
       "      <td>2021-10-02 16:34:51.632533</td>\n",
       "      <td>user 9204</td>\n",
       "      <td>retry 0</td>\n",
       "      <td>20.060214</td>\n",
       "      <td>returncode 1</td>\n",
       "      <td>command ['/usr/bin/squeue', '-o', '%i %T', '-u...</td>\n",
       "    </tr>\n",
       "    <tr>\n",
       "      <th>29427</th>\n",
       "      <td>4730701</td>\n",
       "      <td>2021-10-02 17:33:19.126956</td>\n",
       "      <td>user 9204</td>\n",
       "      <td>retry 0</td>\n",
       "      <td>20.508845</td>\n",
       "      <td>returncode 1</td>\n",
       "      <td>command ['/usr/bin/squeue', '-o', '%i %T', '-j...</td>\n",
       "    </tr>\n",
       "    <tr>\n",
       "      <th>29428</th>\n",
       "      <td>4730705</td>\n",
       "      <td>2021-10-02 17:33:39.156362</td>\n",
       "      <td>user 9204</td>\n",
       "      <td>retry 1</td>\n",
       "      <td>20.028890</td>\n",
       "      <td>returncode 1</td>\n",
       "      <td>command ['/usr/bin/squeue', '-o', '%i %T', '-j...</td>\n",
       "    </tr>\n",
       "    <tr>\n",
       "      <th>29429</th>\n",
       "      <td>4731181</td>\n",
       "      <td>2021-10-02 18:29:08.267199</td>\n",
       "      <td>user 9204</td>\n",
       "      <td>retry 0</td>\n",
       "      <td>20.043146</td>\n",
       "      <td>returncode 1</td>\n",
       "      <td>command ['/usr/bin/sbatch', '/tmp/condor_g_scr...</td>\n",
       "    </tr>\n",
       "  </tbody>\n",
       "</table>\n",
       "<p>29430 rows × 7 columns</p>\n",
       "</div>"
      ],
      "text/plain": [
       "         index                   timestamp       user     code  responsetime  \\\n",
       "0          564  2020-10-16 08:59:38.926896  user 9204  retry 0      0.123170   \n",
       "1          565  2020-10-16 08:59:38.986336  user 9204  retry 1      0.059057   \n",
       "2          566  2020-10-16 08:59:39.133897  user 9204  retry 2      0.147263   \n",
       "3          683  2020-10-16 09:11:17.798315  user 9204  retry 0      0.021034   \n",
       "4          684  2020-10-16 09:11:17.817819  user 9204  retry 1      0.019125   \n",
       "...        ...                         ...        ...      ...           ...   \n",
       "29425  4729891  2021-10-02 16:01:42.684681  user 9204  retry 0     21.281794   \n",
       "29426  4730187  2021-10-02 16:34:51.632533  user 9204  retry 0     20.060214   \n",
       "29427  4730701  2021-10-02 17:33:19.126956  user 9204  retry 0     20.508845   \n",
       "29428  4730705  2021-10-02 17:33:39.156362  user 9204  retry 1     20.028890   \n",
       "29429  4731181  2021-10-02 18:29:08.267199  user 9204  retry 0     20.043146   \n",
       "\n",
       "        return_code                                            command  \n",
       "0      returncode 1  command ['/usr/bin/scontrol', 'show', 'job', '...  \n",
       "1      returncode 1  command ['/usr/bin/scontrol', 'show', 'job', '...  \n",
       "2      returncode 1  command ['/usr/bin/scontrol', 'show', 'job', '...  \n",
       "3      returncode 1  command ['/usr/bin/scontrol', 'show', 'job', '...  \n",
       "4      returncode 1  command ['/usr/bin/scontrol', 'show', 'job', '...  \n",
       "...             ...                                                ...  \n",
       "29425  returncode 1  command ['/usr/bin/squeue', '-o', '%i %T', '-u...  \n",
       "29426  returncode 1  command ['/usr/bin/squeue', '-o', '%i %T', '-u...  \n",
       "29427  returncode 1  command ['/usr/bin/squeue', '-o', '%i %T', '-j...  \n",
       "29428  returncode 1  command ['/usr/bin/squeue', '-o', '%i %T', '-j...  \n",
       "29429  returncode 1  command ['/usr/bin/sbatch', '/tmp/condor_g_scr...  \n",
       "\n",
       "[29430 rows x 7 columns]"
      ]
     },
     "execution_count": 304,
     "metadata": {},
     "output_type": "execute_result"
    }
   ],
   "source": [
    "ce5_user9204"
   ]
  },
  {
   "cell_type": "code",
   "execution_count": 104,
   "id": "9914945d-d0a2-4849-8cbc-3f575a8f745c",
   "metadata": {},
   "outputs": [],
   "source": [
    "ce5_user9204_test = ce5_user9204.loc[(ce5_user9204['responsetime'] >= 15)].reset_index()"
   ]
  },
  {
   "cell_type": "code",
   "execution_count": 110,
   "id": "cf3f11fa-61f8-4e74-97c0-7a6e676f3a3a",
   "metadata": {},
   "outputs": [
    {
     "name": "stdout",
     "output_type": "stream",
     "text": [
      "<class 'pandas.core.frame.DataFrame'>\n",
      "RangeIndex: 5558 entries, 0 to 5557\n",
      "Data columns (total 8 columns):\n",
      " #   Column        Non-Null Count  Dtype  \n",
      "---  ------        --------------  -----  \n",
      " 0   level_0       5558 non-null   int64  \n",
      " 1   index         5558 non-null   int64  \n",
      " 2   timestamp     5558 non-null   object \n",
      " 3   user          5558 non-null   object \n",
      " 4   code          5558 non-null   object \n",
      " 5   responsetime  5558 non-null   float64\n",
      " 6   return_code   5558 non-null   object \n",
      " 7   command       5558 non-null   object \n",
      "dtypes: float64(1), int64(2), object(5)\n",
      "memory usage: 347.5+ KB\n"
     ]
    }
   ],
   "source": [
    "ce5_user9204_test.info()"
   ]
  },
  {
   "cell_type": "code",
   "execution_count": 132,
   "id": "6deec96e-43ba-4f63-a61f-55c1977fda50",
   "metadata": {},
   "outputs": [
    {
     "data": {
      "text/plain": [
       "0      2020-10-16 22:25:53\n",
       "1      2020-10-16 22:31:02\n",
       "2      2020-10-16 22:31:22\n",
       "3      2020-10-16 22:37:48\n",
       "4      2020-10-16 22:44:57\n",
       "               ...        \n",
       "5553   2021-10-02 16:01:42\n",
       "5554   2021-10-02 16:34:51\n",
       "5555   2021-10-02 17:33:19\n",
       "5556   2021-10-02 17:33:39\n",
       "5557   2021-10-02 18:29:08\n",
       "Name: timestamp, Length: 5558, dtype: datetime64[ns]"
      ]
     },
     "execution_count": 132,
     "metadata": {},
     "output_type": "execute_result"
    }
   ],
   "source": [
    "ce5_user9204_test['timestamp'] = pd.to_datetime(ce5_user9204_test['timestamp']).apply(lambda x: x.replace(microsecond=0))\n",
    "ce5_user9204_test['timestamp']"
   ]
  },
  {
   "cell_type": "code",
   "execution_count": 134,
   "id": "11e2eece-e1b0-42b4-9211-71d1618cc000",
   "metadata": {},
   "outputs": [
    {
     "data": {
      "text/plain": [
       "<Axes: xlabel='timestamp'>"
      ]
     },
     "execution_count": 134,
     "metadata": {},
     "output_type": "execute_result"
    },
    {
     "data": {
      "image/png": "[encoded data removed]",
      "text/plain": [
       "<Figure size 1200x600 with 1 Axes>"
      ]
     },
     "metadata": {},
     "output_type": "display_data"
    }
   ],
   "source": [
    "plt.figure(figsize = (12,6))\n",
    "ce5_user9204_test['timestamp'].value_counts().sort_index().plot()"
   ]
  },
  {
   "cell_type": "code",
   "execution_count": 162,
   "id": "1a114ea5-1cbb-4396-b50e-d8450f5fcf79",
   "metadata": {},
   "outputs": [
    {
     "data": {
      "text/plain": [
       "END\n",
       "2020-10-07 15:03:10    242\n",
       "2020-12-11 09:02:40    207\n",
       "2021-02-10 13:04:28    240\n",
       "2021-02-17 16:45:57    284\n",
       "2021-02-17 16:45:58    297\n",
       "2021-02-25 23:56:42    274\n",
       "2021-05-10 20:55:20    237\n",
       "2021-06-03 17:31:18    228\n",
       "2021-06-04 09:37:19    214\n",
       "2021-06-16 22:34:57    247\n",
       "2021-07-12 11:36:02    312\n",
       "2021-09-02 11:15:15    232\n",
       "Name: count, dtype: int64"
      ]
     },
     "execution_count": 162,
     "metadata": {},
     "output_type": "execute_result"
    }
   ],
   "source": [
    "jobs_completed['END'].value_counts().loc[lambda x : x >= 200].sort_index()"
   ]
  },
  {
   "cell_type": "code",
   "execution_count": 144,
   "id": "3bef43a3-dd94-49c7-82d6-4332227895ce",
   "metadata": {},
   "outputs": [
    {
     "data": {
      "text/plain": [
       "timestamp\n",
       "2020-11-22 20:11:38    2\n",
       "2020-11-22 20:11:58    2\n",
       "2020-11-23 10:09:21    2\n",
       "2020-12-02 09:50:50    2\n",
       "2020-12-02 09:51:31    2\n",
       "2020-12-02 09:51:50    2\n",
       "2020-12-02 16:54:49    2\n",
       "2020-12-03 03:02:05    2\n",
       "2020-12-04 12:24:06    2\n",
       "2020-12-04 12:24:44    2\n",
       "2020-12-04 12:26:09    2\n",
       "2020-12-04 12:27:47    2\n",
       "2020-12-04 12:28:07    2\n",
       "2020-12-04 12:28:27    2\n",
       "2020-12-07 16:57:00    2\n",
       "2020-12-12 23:56:52    2\n",
       "2021-01-01 16:51:29    2\n",
       "2021-01-01 20:53:59    2\n",
       "2021-01-01 20:54:19    2\n",
       "2021-04-21 19:16:02    2\n",
       "2021-04-26 12:45:57    2\n",
       "2021-04-27 11:10:03    2\n",
       "2021-05-13 20:59:18    2\n",
       "2021-05-13 20:59:54    2\n",
       "2021-05-13 21:00:29    2\n",
       "2021-05-13 23:43:11    2\n",
       "2021-05-14 01:43:35    2\n",
       "2021-05-14 03:29:37    2\n",
       "2021-05-14 03:29:57    2\n",
       "2021-05-14 06:27:56    2\n",
       "2021-05-15 13:19:31    2\n",
       "2021-05-16 01:13:11    2\n",
       "2021-05-16 01:13:46    2\n",
       "2021-06-09 01:15:32    2\n",
       "2021-07-10 19:44:50    2\n",
       "2021-09-09 08:15:41    2\n",
       "2021-09-24 08:44:48    2\n",
       "Name: count, dtype: int64"
      ]
     },
     "execution_count": 144,
     "metadata": {},
     "output_type": "execute_result"
    }
   ],
   "source": [
    "ce5_user9204_test['timestamp'].value_counts(sort=False).loc[lambda x: x >=2]"
   ]
  },
  {
   "cell_type": "code",
   "execution_count": 184,
   "id": "bd402ab2-8874-4197-82c1-e1a87e116583",
   "metadata": {},
   "outputs": [
    {
     "data": {
      "text/html": [
       "<div>\n",
       "<style scoped>\n",
       "    .dataframe tbody tr th:only-of-type {\n",
       "        vertical-align: middle;\n",
       "    }\n",
       "\n",
       "    .dataframe tbody tr th {\n",
       "        vertical-align: top;\n",
       "    }\n",
       "\n",
       "    .dataframe thead th {\n",
       "        text-align: right;\n",
       "    }\n",
       "</style>\n",
       "<table border=\"1\" class=\"dataframe\">\n",
       "  <thead>\n",
       "    <tr style=\"text-align: right;\">\n",
       "      <th></th>\n",
       "      <th>timestamp</th>\n",
       "      <th>user</th>\n",
       "      <th>code</th>\n",
       "      <th>responsetime</th>\n",
       "      <th>return_code</th>\n",
       "      <th>command</th>\n",
       "    </tr>\n",
       "  </thead>\n",
       "  <tbody>\n",
       "    <tr>\n",
       "      <th>0</th>\n",
       "      <td>2020-10-16 10:37:44.163454</td>\n",
       "      <td>user 9202</td>\n",
       "      <td>retry 0</td>\n",
       "      <td>time 0.08495402336120605</td>\n",
       "      <td>returncode 0</td>\n",
       "      <td>command ['/usr/bin/scontrol', 'show', 'job', '...</td>\n",
       "    </tr>\n",
       "    <tr>\n",
       "      <th>1</th>\n",
       "      <td>2020-10-16 10:37:44.206654</td>\n",
       "      <td>user 9202</td>\n",
       "      <td>retry 0</td>\n",
       "      <td>time 0.08943057060241699</td>\n",
       "      <td>returncode 0</td>\n",
       "      <td>command ['/usr/bin/scontrol', 'show', 'job', '...</td>\n",
       "    </tr>\n",
       "    <tr>\n",
       "      <th>2</th>\n",
       "      <td>2020-10-16 10:37:44.218760</td>\n",
       "      <td>user 9202</td>\n",
       "      <td>retry 0</td>\n",
       "      <td>time 0.05928945541381836</td>\n",
       "      <td>returncode 0</td>\n",
       "      <td>command ['/usr/bin/scontrol', 'show', 'job', '...</td>\n",
       "    </tr>\n",
       "    <tr>\n",
       "      <th>3</th>\n",
       "      <td>2020-10-16 10:37:44.256403</td>\n",
       "      <td>user 9202</td>\n",
       "      <td>retry 0</td>\n",
       "      <td>time 0.038695573806762695</td>\n",
       "      <td>returncode 0</td>\n",
       "      <td>command ['/usr/bin/scontrol', 'show', 'job', '...</td>\n",
       "    </tr>\n",
       "    <tr>\n",
       "      <th>4</th>\n",
       "      <td>2020-10-16 10:37:44.611603</td>\n",
       "      <td>user 9202</td>\n",
       "      <td>retry 0</td>\n",
       "      <td>time 0.03343677520751953</td>\n",
       "      <td>returncode 0</td>\n",
       "      <td>command ['/usr/bin/scontrol', 'show', 'job', '...</td>\n",
       "    </tr>\n",
       "  </tbody>\n",
       "</table>\n",
       "</div>"
      ],
      "text/plain": [
       "                    timestamp       user     code               responsetime  \\\n",
       "0  2020-10-16 10:37:44.163454  user 9202  retry 0   time 0.08495402336120605   \n",
       "1  2020-10-16 10:37:44.206654  user 9202  retry 0   time 0.08943057060241699   \n",
       "2  2020-10-16 10:37:44.218760  user 9202  retry 0   time 0.05928945541381836   \n",
       "3  2020-10-16 10:37:44.256403  user 9202  retry 0  time 0.038695573806762695   \n",
       "4  2020-10-16 10:37:44.611603  user 9202  retry 0   time 0.03343677520751953   \n",
       "\n",
       "    return_code                                            command  \n",
       "0  returncode 0  command ['/usr/bin/scontrol', 'show', 'job', '...  \n",
       "1  returncode 0  command ['/usr/bin/scontrol', 'show', 'job', '...  \n",
       "2  returncode 0  command ['/usr/bin/scontrol', 'show', 'job', '...  \n",
       "3  returncode 0  command ['/usr/bin/scontrol', 'show', 'job', '...  \n",
       "4  returncode 0  command ['/usr/bin/scontrol', 'show', 'job', '...  "
      ]
     },
     "execution_count": 184,
     "metadata": {},
     "output_type": "execute_result"
    }
   ],
   "source": [
    "ce6 = pd.read_csv('../data/slurm_wrapper_ce6.log',\n",
    "                  header=None,\n",
    "                  names=['timestamp', 'user', 'code', 'responsetime', 'return_code', 'command'],\n",
    "                  delimiter=' - ',\n",
    "                  engine='python',)\n",
    "\n",
    "ce6.head()"
   ]
  },
  {
   "cell_type": "code",
   "execution_count": 188,
   "id": "96e95122-c043-4bb9-91c6-3e9308d9b3b3",
   "metadata": {},
   "outputs": [
    {
     "name": "stdout",
     "output_type": "stream",
     "text": [
      "<class 'pandas.core.frame.DataFrame'>\n",
      "RangeIndex: 4776520 entries, 0 to 4776519\n",
      "Data columns (total 6 columns):\n",
      " #   Column        Dtype \n",
      "---  ------        ----- \n",
      " 0   timestamp     object\n",
      " 1   user          object\n",
      " 2   code          object\n",
      " 3   responsetime  object\n",
      " 4   return_code   object\n",
      " 5   command       object\n",
      "dtypes: object(6)\n",
      "memory usage: 218.7+ MB\n"
     ]
    }
   ],
   "source": [
    "ce6.info()"
   ]
  },
  {
   "cell_type": "code",
   "execution_count": 190,
   "id": "c3d29422-33a0-4245-8b0d-b36ecb00ae5e",
   "metadata": {},
   "outputs": [
    {
     "data": {
      "text/html": [
       "<div>\n",
       "<style scoped>\n",
       "    .dataframe tbody tr th:only-of-type {\n",
       "        vertical-align: middle;\n",
       "    }\n",
       "\n",
       "    .dataframe tbody tr th {\n",
       "        vertical-align: top;\n",
       "    }\n",
       "\n",
       "    .dataframe thead th {\n",
       "        text-align: right;\n",
       "    }\n",
       "</style>\n",
       "<table border=\"1\" class=\"dataframe\">\n",
       "  <thead>\n",
       "    <tr style=\"text-align: right;\">\n",
       "      <th></th>\n",
       "      <th>index</th>\n",
       "      <th>timestamp</th>\n",
       "      <th>user</th>\n",
       "      <th>code</th>\n",
       "      <th>responsetime</th>\n",
       "      <th>return_code</th>\n",
       "      <th>command</th>\n",
       "    </tr>\n",
       "  </thead>\n",
       "  <tbody>\n",
       "    <tr>\n",
       "      <th>0</th>\n",
       "      <td>2162</td>\n",
       "      <td>2020-10-16 13:11:28.041345</td>\n",
       "      <td>user 9202</td>\n",
       "      <td>retry 2</td>\n",
       "      <td>time 0.2604215145111084</td>\n",
       "      <td>returncode 1</td>\n",
       "      <td>command ['/usr/bin/scontrol', 'show', 'job', '...</td>\n",
       "    </tr>\n",
       "    <tr>\n",
       "      <th>1</th>\n",
       "      <td>11349</td>\n",
       "      <td>2020-10-16 22:39:57.846021</td>\n",
       "      <td>user 9201</td>\n",
       "      <td>retry 0</td>\n",
       "      <td>time 20.036171197891235</td>\n",
       "      <td>returncode 1</td>\n",
       "      <td>command ['/usr/bin/sbatch', '/tmp/condor_g_scr...</td>\n",
       "    </tr>\n",
       "    <tr>\n",
       "      <th>2</th>\n",
       "      <td>11363</td>\n",
       "      <td>2020-10-16 22:40:24.993364</td>\n",
       "      <td>user 9201</td>\n",
       "      <td>retry 1</td>\n",
       "      <td>time 20.047770023345947</td>\n",
       "      <td>returncode 1</td>\n",
       "      <td>command ['/usr/bin/sbatch', '/tmp/condor_g_scr...</td>\n",
       "    </tr>\n",
       "    <tr>\n",
       "      <th>3</th>\n",
       "      <td>11481</td>\n",
       "      <td>2020-10-16 22:45:04.414960</td>\n",
       "      <td>user 9201</td>\n",
       "      <td>retry 0</td>\n",
       "      <td>time 20.025500059127808</td>\n",
       "      <td>returncode 1</td>\n",
       "      <td>command ['/usr/bin/sbatch', '/tmp/condor_g_scr...</td>\n",
       "    </tr>\n",
       "    <tr>\n",
       "      <th>4</th>\n",
       "      <td>38747</td>\n",
       "      <td>2020-10-18 07:32:15.661126</td>\n",
       "      <td>user 9219</td>\n",
       "      <td>retry 0</td>\n",
       "      <td>time 20.23547625541687</td>\n",
       "      <td>returncode 1</td>\n",
       "      <td>command ['/usr/bin/scontrol', 'show', 'job']</td>\n",
       "    </tr>\n",
       "    <tr>\n",
       "      <th>...</th>\n",
       "      <td>...</td>\n",
       "      <td>...</td>\n",
       "      <td>...</td>\n",
       "      <td>...</td>\n",
       "      <td>...</td>\n",
       "      <td>...</td>\n",
       "      <td>...</td>\n",
       "    </tr>\n",
       "    <tr>\n",
       "      <th>17551</th>\n",
       "      <td>4766824</td>\n",
       "      <td>2021-10-06 15:39:17.130518</td>\n",
       "      <td>user 9201</td>\n",
       "      <td>retry 1</td>\n",
       "      <td>time 38.090365409851074</td>\n",
       "      <td>returncode 1</td>\n",
       "      <td>command ['/usr/bin/squeue', '-o', '%i %T', '-j...</td>\n",
       "    </tr>\n",
       "    <tr>\n",
       "      <th>17552</th>\n",
       "      <td>4766840</td>\n",
       "      <td>2021-10-06 15:39:18.896666</td>\n",
       "      <td>user 9201</td>\n",
       "      <td>retry 1</td>\n",
       "      <td>time 38.03921818733215</td>\n",
       "      <td>returncode 1</td>\n",
       "      <td>command ['/usr/bin/squeue', '-o', '%i %T', '-j...</td>\n",
       "    </tr>\n",
       "    <tr>\n",
       "      <th>17553</th>\n",
       "      <td>4766844</td>\n",
       "      <td>2021-10-06 15:39:19.191201</td>\n",
       "      <td>user 9201</td>\n",
       "      <td>retry 1</td>\n",
       "      <td>time 38.04861330986023</td>\n",
       "      <td>returncode 1</td>\n",
       "      <td>command ['/usr/bin/squeue', '-o', '%i %T', '-j...</td>\n",
       "    </tr>\n",
       "    <tr>\n",
       "      <th>17554</th>\n",
       "      <td>4766845</td>\n",
       "      <td>2021-10-06 15:39:19.250733</td>\n",
       "      <td>user 9201</td>\n",
       "      <td>retry 1</td>\n",
       "      <td>time 38.041404724121094</td>\n",
       "      <td>returncode 1</td>\n",
       "      <td>command ['/usr/bin/squeue', '-o', '%i %T', '-j...</td>\n",
       "    </tr>\n",
       "    <tr>\n",
       "      <th>17555</th>\n",
       "      <td>4766846</td>\n",
       "      <td>2021-10-06 15:39:19.355408</td>\n",
       "      <td>user 9201</td>\n",
       "      <td>retry 1</td>\n",
       "      <td>time 38.05490207672119</td>\n",
       "      <td>returncode 1</td>\n",
       "      <td>command ['/usr/bin/squeue', '-o', '%i %T', '-j...</td>\n",
       "    </tr>\n",
       "  </tbody>\n",
       "</table>\n",
       "<p>17556 rows × 7 columns</p>\n",
       "</div>"
      ],
      "text/plain": [
       "         index                   timestamp       user     code  \\\n",
       "0         2162  2020-10-16 13:11:28.041345  user 9202  retry 2   \n",
       "1        11349  2020-10-16 22:39:57.846021  user 9201  retry 0   \n",
       "2        11363  2020-10-16 22:40:24.993364  user 9201  retry 1   \n",
       "3        11481  2020-10-16 22:45:04.414960  user 9201  retry 0   \n",
       "4        38747  2020-10-18 07:32:15.661126  user 9219  retry 0   \n",
       "...        ...                         ...        ...      ...   \n",
       "17551  4766824  2021-10-06 15:39:17.130518  user 9201  retry 1   \n",
       "17552  4766840  2021-10-06 15:39:18.896666  user 9201  retry 1   \n",
       "17553  4766844  2021-10-06 15:39:19.191201  user 9201  retry 1   \n",
       "17554  4766845  2021-10-06 15:39:19.250733  user 9201  retry 1   \n",
       "17555  4766846  2021-10-06 15:39:19.355408  user 9201  retry 1   \n",
       "\n",
       "                  responsetime   return_code  \\\n",
       "0      time 0.2604215145111084  returncode 1   \n",
       "1      time 20.036171197891235  returncode 1   \n",
       "2      time 20.047770023345947  returncode 1   \n",
       "3      time 20.025500059127808  returncode 1   \n",
       "4       time 20.23547625541687  returncode 1   \n",
       "...                        ...           ...   \n",
       "17551  time 38.090365409851074  returncode 1   \n",
       "17552   time 38.03921818733215  returncode 1   \n",
       "17553   time 38.04861330986023  returncode 1   \n",
       "17554  time 38.041404724121094  returncode 1   \n",
       "17555   time 38.05490207672119  returncode 1   \n",
       "\n",
       "                                                 command  \n",
       "0      command ['/usr/bin/scontrol', 'show', 'job', '...  \n",
       "1      command ['/usr/bin/sbatch', '/tmp/condor_g_scr...  \n",
       "2      command ['/usr/bin/sbatch', '/tmp/condor_g_scr...  \n",
       "3      command ['/usr/bin/sbatch', '/tmp/condor_g_scr...  \n",
       "4           command ['/usr/bin/scontrol', 'show', 'job']  \n",
       "...                                                  ...  \n",
       "17551  command ['/usr/bin/squeue', '-o', '%i %T', '-j...  \n",
       "17552  command ['/usr/bin/squeue', '-o', '%i %T', '-j...  \n",
       "17553  command ['/usr/bin/squeue', '-o', '%i %T', '-j...  \n",
       "17554  command ['/usr/bin/squeue', '-o', '%i %T', '-j...  \n",
       "17555  command ['/usr/bin/squeue', '-o', '%i %T', '-j...  \n",
       "\n",
       "[17556 rows x 7 columns]"
      ]
     },
     "execution_count": 190,
     "metadata": {},
     "output_type": "execute_result"
    }
   ],
   "source": [
    "ce6_user9204 = ce6.loc[(ce5['user'] == 'user 9204') & (ce6['return_code'] != 'returncode 0')].reset_index()\n",
    "ce6_user9204"
   ]
  },
  {
   "cell_type": "code",
   "execution_count": 192,
   "id": "8be8e0f1-3887-4af4-bf0d-989792460213",
   "metadata": {},
   "outputs": [
    {
     "data": {
      "text/plain": [
       "0         0.260422\n",
       "1        20.036171\n",
       "2        20.047770\n",
       "3        20.025500\n",
       "4        20.235476\n",
       "           ...    \n",
       "17551    38.090365\n",
       "17552    38.039218\n",
       "17553    38.048613\n",
       "17554    38.041405\n",
       "17555    38.054902\n",
       "Name: responsetime, Length: 17556, dtype: float64"
      ]
     },
     "execution_count": 192,
     "metadata": {},
     "output_type": "execute_result"
    }
   ],
   "source": [
    "ce6_user9204['responsetime'] = ce6_user9204['responsetime'].str.replace(r'\\w+\\s', '', regex=True).astype(float)\n",
    "ce6_user9204['responsetime']"
   ]
  },
  {
   "cell_type": "code",
   "execution_count": 194,
   "id": "923764e1-f121-4efd-904c-46245e3c0ab2",
   "metadata": {},
   "outputs": [],
   "source": [
    "ce6_user9204_test = ce6_user9204.loc[(ce6_user9204['responsetime'] >= 15)].reset_index()"
   ]
  },
  {
   "cell_type": "code",
   "execution_count": 196,
   "id": "368439c0-adab-471c-a73a-aaab41e027c1",
   "metadata": {},
   "outputs": [
    {
     "name": "stdout",
     "output_type": "stream",
     "text": [
      "<class 'pandas.core.frame.DataFrame'>\n",
      "RangeIndex: 16751 entries, 0 to 16750\n",
      "Data columns (total 8 columns):\n",
      " #   Column        Non-Null Count  Dtype  \n",
      "---  ------        --------------  -----  \n",
      " 0   level_0       16751 non-null  int64  \n",
      " 1   index         16751 non-null  int64  \n",
      " 2   timestamp     16751 non-null  object \n",
      " 3   user          16751 non-null  object \n",
      " 4   code          16751 non-null  object \n",
      " 5   responsetime  16751 non-null  float64\n",
      " 6   return_code   16751 non-null  object \n",
      " 7   command       16751 non-null  object \n",
      "dtypes: float64(1), int64(2), object(5)\n",
      "memory usage: 1.0+ MB\n"
     ]
    }
   ],
   "source": [
    "ce6_user9204_test.info()"
   ]
  },
  {
   "cell_type": "code",
   "execution_count": 198,
   "id": "cd452f22-78fd-49ab-bb45-7dacafac60af",
   "metadata": {},
   "outputs": [
    {
     "data": {
      "text/plain": [
       "0       2020-10-16 22:39:57\n",
       "1       2020-10-16 22:40:24\n",
       "2       2020-10-16 22:45:04\n",
       "3       2020-10-18 07:32:15\n",
       "4       2020-10-18 08:52:31\n",
       "                ...        \n",
       "16746   2021-10-06 15:39:17\n",
       "16747   2021-10-06 15:39:18\n",
       "16748   2021-10-06 15:39:19\n",
       "16749   2021-10-06 15:39:19\n",
       "16750   2021-10-06 15:39:19\n",
       "Name: timestamp, Length: 16751, dtype: datetime64[ns]"
      ]
     },
     "execution_count": 198,
     "metadata": {},
     "output_type": "execute_result"
    }
   ],
   "source": [
    "ce6_user9204_test['timestamp'] = pd.to_datetime(ce6_user9204_test['timestamp']).apply(lambda x: x.replace(microsecond=0))\n",
    "ce6_user9204_test['timestamp']"
   ]
  },
  {
   "cell_type": "code",
   "execution_count": 264,
   "id": "6b17c33a-d924-4e25-be5d-86fb68615895",
   "metadata": {},
   "outputs": [
    {
     "data": {
      "text/plain": [
       "<Axes: xlabel='End Date'>"
      ]
     },
     "execution_count": 264,
     "metadata": {},
     "output_type": "execute_result"
    },
    {
     "data": {
      "image/png": "[encoded data removed]",
      "text/plain": [
       "<Figure size 1200x600 with 1 Axes>"
      ]
     },
     "metadata": {},
     "output_type": "display_data"
    }
   ],
   "source": [
    "plt.figure(figsize = (12,6))\n",
    "ce6_user9204_test['timestamp'].value_counts().sort_index().plot()\n",
    "jobs_completed['END'].value_counts(sort=False).plot(kind='line', xlabel='End Date')"
   ]
  },
  {
   "cell_type": "code",
   "execution_count": 260,
   "id": "b64f20e0-ab7e-453e-b8b6-0b1960a4b713",
   "metadata": {},
   "outputs": [
    {
     "data": {
      "text/plain": [
       "END\n",
       "2020-10-07 15:03:10    242\n",
       "2020-12-11 09:02:40    207\n",
       "2021-02-10 13:04:28    240\n",
       "2021-02-17 16:45:57    284\n",
       "2021-02-17 16:45:58    297\n",
       "2021-02-25 23:56:42    274\n",
       "2021-05-10 20:55:20    237\n",
       "2021-06-03 17:31:18    228\n",
       "2021-06-04 09:37:19    214\n",
       "2021-06-16 22:34:57    247\n",
       "2021-07-12 11:36:02    312\n",
       "2021-09-02 11:15:15    232\n",
       "Name: count, dtype: int64"
      ]
     },
     "execution_count": 260,
     "metadata": {},
     "output_type": "execute_result"
    }
   ],
   "source": [
    "jobs_completed['END'].value_counts().loc[lambda x : x >= 200].sort_index()"
   ]
  },
  {
   "cell_type": "code",
   "execution_count": 204,
   "id": "1b9310d0-720b-4718-a596-89142aa92ec6",
   "metadata": {},
   "outputs": [
    {
     "data": {
      "text/plain": [
       "timestamp\n",
       "2020-12-02 10:08:32    23\n",
       "2020-12-04 13:13:24    16\n",
       "2020-12-04 20:13:59    15\n",
       "2020-12-07 14:07:11    15\n",
       "2020-12-19 01:00:50    16\n",
       "2021-04-15 14:27:50    18\n",
       "Name: count, dtype: int64"
      ]
     },
     "execution_count": 204,
     "metadata": {},
     "output_type": "execute_result"
    }
   ],
   "source": [
    "ce6_user9204_test['timestamp'].value_counts(sort=False).loc[lambda x: x >=15]"
   ]
  },
  {
   "cell_type": "code",
   "execution_count": null,
   "id": "cce5bd45-9e61-45ee-a841-8e63f2666b2b",
   "metadata": {},
   "outputs": [],
   "source": []
  }
 ],
 "metadata": {
  "kernelspec": {
   "display_name": "Python 3 (ipykernel)",
   "language": "python",
   "name": "python3"
  },
  "language_info": {
   "codemirror_mode": {
    "name": "ipython",
    "version": 3
   },
   "file_extension": ".py",
   "mimetype": "text/x-python",
   "name": "python",
   "nbconvert_exporter": "python",
   "pygments_lexer": "ipython3",
   "version": "3.12.4"
  }
 },
 "nbformat": 4,
 "nbformat_minor": 5
}
